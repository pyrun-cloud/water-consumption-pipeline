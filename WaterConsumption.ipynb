{
 "cells": [
  {
   "cell_type": "markdown",
   "metadata": {
    "tags": []
   },
   "source": [
    "# Cloudbutton Geospatial: Water Consumption Workflow"
   ]
  },
  {
   "cell_type": "markdown",
   "metadata": {
    "ExecuteTime": {
     "end_time": "2021-04-07T09:25:24.015057Z",
     "start_time": "2021-04-07T09:25:24.010199Z"
    }
   },
   "source": [
    "---"
   ]
  },
  {
   "cell_type": "code",
   "execution_count": null,
   "metadata": {},
   "outputs": [
    {
     "ename": "",
     "evalue": "",
     "output_type": "error",
     "traceback": [
      "\u001b[1;31mThe kernel failed to start as 'TypeAliasType' could not be imported from '/usr/local/lib/python3.10/site-packages/typing_extensions.py'.\n",
      "\u001b[1;31mClick <a href='https://aka.ms/kernelFailuresModuleImportErrFromFile'>here</a> for more info."
     ]
    }
   ],
   "source": [
    "import sys\n",
    "sys.path.append('/work')\n"
   ]
  },
  {
   "cell_type": "code",
   "execution_count": null,
   "metadata": {},
   "outputs": [],
   "source": [
    "import os\n",
    "\n",
    "os.environ[\"AWS_ACCESS_KEY_ID\"] = \"AWS_ACCESS_KEY_ID\"\n",
    "os.environ[\"AWS_SECRET_ACCESS_KEY\"] = \"AWS_SECRET_ACCESS_KEY\""
   ]
  },
  {
   "cell_type": "code",
   "execution_count": null,
   "metadata": {},
   "outputs": [],
   "source": [
    "from collections import defaultdict\n",
    "from cloudbutton_geospatial.io_utils.plot import plot_results\n",
    "from cloudbutton_geospatial.utils.notebook import date_picker\n",
    "from rasterio.windows import Window\n",
    "from scipy.spatial import distance_matrix\n",
    "from shapely.geometry import Point, MultiPoint, box\n",
    "from pprint import pprint\n",
    "import functools\n",
    "import collections\n",
    "import datetime\n",
    "import os\n",
    "import shutil\n",
    "import math\n",
    "import numpy as np\n",
    "import pandas as pd\n",
    "import lithops\n",
    "import requests\n",
    "import rasterio\n",
    "import fiona\n",
    "import json\n",
    "import random\n",
    "import re\n",
    "import tempfile\n",
    "import concurrent.futures\n",
    "from IPython.display import Image\n",
    "import matplotlib.pyplot as plt\n",
    "from lithops.storage import Storage\n",
    "from lithops.storage.utils import StorageNoSuchKeyError\n",
    "from io import BytesIO\n",
    "\n",
    "\n",
    "from data_cockpit.widget import DataLoaderWidget\n"
   ]
  },
  {
   "cell_type": "markdown",
   "metadata": {},
   "source": [
    "## Workflow parameters"
   ]
  },
  {
   "cell_type": "markdown",
   "metadata": {},
   "source": [
    "Area outside the processed tile that we want to consider for taking SIAM stations into account:"
   ]
  },
  {
   "cell_type": "code",
   "execution_count": 4,
   "metadata": {
    "ExecuteTime": {
     "end_time": "2021-04-13T14:38:28.795793Z",
     "start_time": "2021-04-13T14:38:28.788173Z"
    }
   },
   "outputs": [],
   "source": [
    "AREA_OF_INFLUENCE = 16000"
   ]
  },
  {
   "cell_type": "markdown",
   "metadata": {},
   "source": [
    "Lithops Variables:"
   ]
  },
  {
   "cell_type": "code",
   "execution_count": 5,
   "metadata": {
    "ExecuteTime": {
     "end_time": "2021-04-13T14:38:29.658886Z",
     "start_time": "2021-04-13T14:38:29.654251Z"
    }
   },
   "outputs": [],
   "source": [
    "DATA_BUCKET = 'cloudbutton-wc'\n",
    "COMPUTE_BACKEND = 'aws_lambda'\n",
    "STORAGE_BACKEND = 'aws_s3'\n",
    "STORAGE_PREFIX = 's3://'\n",
    "RUNTIME_MEMORY = 2048"
   ]
  },
  {
   "cell_type": "code",
   "execution_count": 6,
   "metadata": {},
   "outputs": [],
   "source": [
    "storage = lithops.storage.Storage(backend=STORAGE_BACKEND)"
   ]
  },
  {
   "cell_type": "code",
   "execution_count": null,
   "metadata": {},
   "outputs": [],
   "source": [
    "data_loader = DataLoaderWidget()\n",
    "\n",
    "data_loader.display()\n"
   ]
  },
  {
   "cell_type": "code",
   "execution_count": 11,
   "metadata": {},
   "outputs": [],
   "source": [
    "chunks = data_loader.get_data_slices()\n",
    "SPLITS = data_loader.get_batch_size()"
   ]
  },
  {
   "cell_type": "code",
   "execution_count": null,
   "metadata": {},
   "outputs": [],
   "source": [
    "SPLITS"
   ]
  },
  {
   "cell_type": "code",
   "execution_count": null,
   "metadata": {},
   "outputs": [],
   "source": [
    "chunks"
   ]
  },
  {
   "cell_type": "code",
   "execution_count": 14,
   "metadata": {},
   "outputs": [],
   "source": [
    "DTM_PREFIX = 'DTMs/'\n",
    "DTM_ASC_PREFIX = 'DTMs/asc/'\n",
    "DTM_GEOTIFF_PREFIX = 'DTMs/geotiff/'"
   ]
  },
  {
   "cell_type": "markdown",
   "metadata": {},
   "source": [
    "Split tile into square chunks (number of tiles = SPLITS^2):"
   ]
  },
  {
   "cell_type": "markdown",
   "metadata": {},
   "source": [
    "Correlation coefficient between elevation and temperature:"
   ]
  },
  {
   "cell_type": "code",
   "execution_count": 15,
   "metadata": {
    "ExecuteTime": {
     "end_time": "2021-04-13T14:38:31.362634Z",
     "start_time": "2021-04-13T14:38:31.359578Z"
    }
   },
   "outputs": [],
   "source": [
    "r = -0.0056"
   ]
  },
  {
   "cell_type": "markdown",
   "metadata": {},
   "source": [
    "Elevation to interpolate temperature:"
   ]
  },
  {
   "cell_type": "code",
   "execution_count": 16,
   "metadata": {
    "ExecuteTime": {
     "end_time": "2021-04-13T14:38:32.187402Z",
     "start_time": "2021-04-13T14:38:32.184798Z"
    }
   },
   "outputs": [],
   "source": [
    "zdet = 2000"
   ]
  },
  {
   "cell_type": "markdown",
   "metadata": {},
   "source": [
    "Day of year to calculate solar irradiation:"
   ]
  },
  {
   "cell_type": "code",
   "execution_count": 17,
   "metadata": {},
   "outputs": [
    {
     "data": {
      "application/vnd.jupyter.widget-view+json": {
       "model_id": "21450336dfb845e8964794111a4911d5",
       "version_major": 2,
       "version_minor": 0
      },
      "text/plain": [
       "DatePicker(value=datetime.date(2022, 5, 15), description='Pick a Date', step=1)"
      ]
     },
     "metadata": {},
     "output_type": "display_data"
    }
   ],
   "source": [
    "date = date_picker(default=datetime.date(2022, 5, 15))"
   ]
  },
  {
   "cell_type": "code",
   "execution_count": 18,
   "metadata": {
    "ExecuteTime": {
     "end_time": "2021-04-13T14:38:33.304420Z",
     "start_time": "2021-04-13T14:38:33.299098Z"
    }
   },
   "outputs": [
    {
     "data": {
      "text/plain": [
       "135"
      ]
     },
     "execution_count": 18,
     "metadata": {},
     "output_type": "execute_result"
    }
   ],
   "source": [
    "DAY_OF_YEAR = date.value.timetuple().tm_yday\n",
    "DAY_OF_YEAR"
   ]
  },
  {
   "cell_type": "markdown",
   "metadata": {},
   "source": [
    "Initialize Lithops Storage and Function Executor:"
   ]
  },
  {
   "cell_type": "code",
   "execution_count": 19,
   "metadata": {},
   "outputs": [
    {
     "name": "stderr",
     "output_type": "stream",
     "text": [
      "2025-03-28 16:50:25,862 [INFO] config.py:146 -- Lithops v3.5.2.dev0 - Python3.10\n",
      "2025-03-28 16:50:25,863 [DEBUG] config.py:107 -- Loading configuration from the cloud\n",
      "2025-03-28 16:50:26,140 [DEBUG] config.py:186 -- Loading Serverless backend module: aws_lambda\n",
      "2025-03-28 16:50:26,145 [DEBUG] config.py:226 -- Loading Storage backend module: aws_s3\n",
      "2025-03-28 16:50:26,147 [DEBUG] aws_s3.py:36 -- Creating AWS S3 Client\n",
      "2025-03-28 16:50:26,479 [INFO] aws_s3.py:59 -- S3 client created - Region: us-east-1\n",
      "2025-03-28 16:50:26,528 [DEBUG] aws_lambda.py:53 -- Creating AWS Lambda client\n",
      "2025-03-28 16:50:26,739 [INFO] aws_lambda.py:97 -- AWS Lambda client created - Region: us-east-1\n",
      "2025-03-28 16:50:26,744 [DEBUG] invokers.py:105 -- ExecutorID 83e80c-0 - Invoker initialized. Max workers: 1000\n",
      "2025-03-28 16:50:26,746 [DEBUG] invokers.py:309 -- ExecutorID 83e80c-0 - Serverless invoker created\n",
      "2025-03-28 16:50:28,601 [DEBUG] executors.py:164 -- Function executor for aws_lambda created with ID: 83e80c-0\n"
     ]
    }
   ],
   "source": [
    "fexec = lithops.FunctionExecutor(backend=COMPUTE_BACKEND, storage=STORAGE_BACKEND, runtime_memory=RUNTIME_MEMORY)"
   ]
  },
  {
   "cell_type": "markdown",
   "metadata": {},
   "source": [
    "## Data preparation"
   ]
  },
  {
   "cell_type": "markdown",
   "metadata": {},
   "source": [
    "### SIAM data"
   ]
  },
  {
   "cell_type": "code",
   "execution_count": 20,
   "metadata": {
    "ExecuteTime": {
     "end_time": "2021-04-07T09:46:49.948481Z",
     "start_time": "2021-04-07T09:46:49.800147Z"
    }
   },
   "outputs": [
    {
     "name": "stdout",
     "output_type": "stream",
     "text": [
      "SIAM meteo data already in storage: {'x-amz-id-2': 'q6uQegPl5M81y/LRK5Oc1MuavmZ3rAxSWYhoasM6aWXa7BpwK+VuDeyliVmay6tdZEqyQKhf3klLSe53WuqsyA==', 'x-amz-request-id': 'GTP7JAFDP3X4J9FG', 'date': 'Fri, 28 Mar 2025 16:50:30 GMT', 'last-modified': 'Thu, 24 Oct 2024 22:21:09 GMT', 'etag': '\"8a1fd5da76b1123e66cc0155e6c8f5f7\"', 'x-amz-server-side-encryption': 'AES256', 'accept-ranges': 'bytes', 'content-type': 'binary/octet-stream', 'content-length': '3850', 'server': 'AmazonS3'}\n"
     ]
    }
   ],
   "source": [
    "siam_data_key = 'siam_data.csv'\n",
    "try:\n",
    "    siam_data_head = storage.head_object(bucket=DATA_BUCKET, key=siam_data_key)\n",
    "    print(f'SIAM meteo data already in storage: {siam_data_head}')\n",
    "except StorageNoSuchKeyError:\n",
    "    print('Uploading SIAM meteo data to Object Storage...')\n",
    "    with open(siam_data_key, 'rb') as f:\n",
    "        storage.put_object(bucket=DATA_BUCKET, key=siam_data_key, body=f)"
   ]
  },
  {
   "cell_type": "markdown",
   "metadata": {},
   "source": [
    "### Shapefile"
   ]
  },
  {
   "cell_type": "code",
   "execution_count": 21,
   "metadata": {},
   "outputs": [
    {
     "name": "stdout",
     "output_type": "stream",
     "text": [
      "Shapefile already in storage: {'x-amz-id-2': 'q6uQegPl5M81y/LRK5Oc1MuavmZ3rAxSWYhoasM6aWXa7BpwK+VuDeyliVmay6tdZEqyQKhf3klLSe53WuqsyA==', 'x-amz-request-id': 'GTP7JAFDP3X4J9FG', 'date': 'Fri, 28 Mar 2025 16:50:30 GMT', 'last-modified': 'Thu, 24 Oct 2024 22:21:09 GMT', 'etag': '\"8a1fd5da76b1123e66cc0155e6c8f5f7\"', 'x-amz-server-side-encryption': 'AES256', 'accept-ranges': 'bytes', 'content-type': 'binary/octet-stream', 'content-length': '3850', 'server': 'AmazonS3'}\n"
     ]
    }
   ],
   "source": [
    "shapefile_key = 'shapefile_murcia.zip'\n",
    "try:\n",
    "    shapefile_head = storage.head_object(bucket=DATA_BUCKET, key=shapefile_key)\n",
    "    print(f'Shapefile already in storage: {siam_data_head}')\n",
    "except StorageNoSuchKeyError:\n",
    "    print('Uploading shapefile to Object Storage...')\n",
    "    with open(shapefile_key, 'rb') as f:\n",
    "        storage.put_object(bucket=DATA_BUCKET, key=shapefile_key, body=f)"
   ]
  },
  {
   "cell_type": "markdown",
   "metadata": {},
   "source": [
    "### Digital Terrain Models"
   ]
  },
  {
   "cell_type": "markdown",
   "metadata": {},
   "source": [
    "Download DTM files for free from http://centrodedescargas.cnig.es/CentroDescargas/buscadorCatalogo.do?codFamilia=MDT05# and put them in `input_DTMs` folder."
   ]
  },
  {
   "cell_type": "markdown",
   "metadata": {},
   "source": [
    "Find downloaded MDTs:"
   ]
  },
  {
   "cell_type": "markdown",
   "metadata": {},
   "source": [
    "## Raster Data Interpolation"
   ]
  },
  {
   "cell_type": "markdown",
   "metadata": {},
   "source": [
    "Split data tiles in subtiles for increased parallelism:"
   ]
  },
  {
   "cell_type": "code",
   "execution_count": 22,
   "metadata": {
    "ExecuteTime": {
     "end_time": "2021-04-13T14:38:54.462039Z",
     "start_time": "2021-04-13T14:38:54.449706Z"
    },
    "tags": []
   },
   "outputs": [],
   "source": [
    "def compute_solar_irradiation(inputFile, outputFile, crs='32630'):\n",
    "    # Define grass working set\n",
    "    GRASS_GISDB = '/tmp/grassdata'\n",
    "    #GRASS_GISDB = 'grassdata'\n",
    "    GRASS_LOCATION = 'GEOPROCESSING'\n",
    "    GRASS_MAPSET = 'PERMANENT'\n",
    "    GRASS_ELEVATIONS_FILENAME = 'ELEVATIONS'\n",
    "\n",
    "    os.environ['GRASSBIN'] = 'grass76'\n",
    "\n",
    "    from grass_session import Session\n",
    "    import grass.script as gscript\n",
    "    import grass.script.setup as gsetup\n",
    "    from grass.pygrass.modules.shortcuts import general\n",
    "    from grass.pygrass.modules.shortcuts import raster\n",
    "    \n",
    "    os.environ.update(dict(GRASS_COMPRESS_NULLS='1'))\n",
    "\n",
    "    # Clean previously processed data\n",
    "    if os.path.isdir(GRASS_GISDB):\n",
    "        shutil.rmtree(GRASS_GISDB)\n",
    "    \n",
    "    with Session(gisdb=GRASS_GISDB, location=GRASS_LOCATION, mapset=GRASS_MAPSET, create_opts='EPSG:32630') as ses:\n",
    "        # Set project projection to match elevation raster projection\n",
    "        general.proj(epsg=crs, flags='c') \n",
    "        # Load raster file into working directory\n",
    "        raster.import_(input=inputFile, output=GRASS_ELEVATIONS_FILENAME, flags='o')    \n",
    "        \n",
    "        # Set project region to match raster region\n",
    "        general.region(raster=GRASS_ELEVATIONS_FILENAME, flags='s')    \n",
    "        # Calculate solar irradiation\n",
    "        gscript.run_command('r.slope.aspect', elevation=GRASS_ELEVATIONS_FILENAME,\n",
    "                            slope='slope', aspect='aspect')\n",
    "        gscript.run_command('r.sun', elevation=GRASS_ELEVATIONS_FILENAME,\n",
    "                            slope='slope', aspect='aspect', beam_rad='beam',\n",
    "                            step=1, day=DAY_OF_YEAR)\n",
    "        \n",
    "        # Get extraterrestrial irradiation from history metadata\n",
    "        regex = re.compile(r'\\d+\\.\\d+')\n",
    "        output = gscript.read_command(\"r.info\", flags=\"h\", map=[\"beam\"])\n",
    "        splits = str(output).split('\\n')\n",
    "        line = next(filter(lambda line: 'Extraterrestrial' in line, splits))\n",
    "        extraterrestrial_irradiance = float(regex.search(line)[0])\n",
    "        \n",
    "        # Export generated results into a GeoTiff file\n",
    "        if os.path.isfile(outputFile):\n",
    "            os.remove(outputFile)\n",
    "\n",
    "        raster.out_gdal(input='beam', output=outputFile)\n",
    "        \n",
    "        return extraterrestrial_irradiance"
   ]
  },
  {
   "cell_type": "markdown",
   "metadata": {},
   "source": [
    "Get stations contained in the area of interest:"
   ]
  },
  {
   "cell_type": "code",
   "execution_count": 23,
   "metadata": {
    "ExecuteTime": {
     "end_time": "2021-04-13T14:38:55.461635Z",
     "start_time": "2021-04-13T14:38:55.457230Z"
    }
   },
   "outputs": [],
   "source": [
    "def filter_stations(bounds, stations):\n",
    "    total_points = MultiPoint([Point(x, y) for x, y in stations[['X', 'Y']].to_numpy()])\n",
    "    total_points_list = list(total_points.geoms)\n",
    "    intersection = bounds.buffer(AREA_OF_INFLUENCE).intersection(total_points)\n",
    "    filtered_stations = [point for point in total_points_list if intersection.contains(point)]\n",
    "\n",
    "    return stations[[point in filtered_stations for point in total_points_list]]"
   ]
  },
  {
   "cell_type": "markdown",
   "metadata": {},
   "source": [
    "Inverse Distance Weighting interpolation:"
   ]
  },
  {
   "cell_type": "code",
   "execution_count": 24,
   "metadata": {
    "ExecuteTime": {
     "end_time": "2021-04-13T14:38:58.209269Z",
     "start_time": "2021-04-13T14:38:58.202597Z"
    }
   },
   "outputs": [],
   "source": [
    "def compute_basic_interpolation(shape, stations, field_value, offset = (0,0)):\n",
    "    station_pixels = [[pixel[0], pixel[1]] for pixel in stations['pixel'].to_numpy()]\n",
    "    \n",
    "    # Get an array where each position represents pixel coordinates\n",
    "    tile_pixels = np.indices(shape).transpose(1,2,0).reshape(shape[0]*shape[1], 2) + offset\n",
    "    dist = distance_matrix(station_pixels, tile_pixels)\n",
    "    weights = np.where(dist == 0, np.finfo('float32').max, 1.0 / dist )\n",
    "    weights /=  weights.sum(axis=0)\n",
    "    \n",
    "    return np.dot(weights.T, stations[field_value].to_numpy()).reshape(shape).astype('float32')"
   ]
  },
  {
   "cell_type": "markdown",
   "metadata": {},
   "source": [
    "Interpolate temperatures from a subset of the tile:"
   ]
  },
  {
   "cell_type": "code",
   "execution_count": 25,
   "metadata": {
    "ExecuteTime": {
     "end_time": "2021-04-13T14:38:59.031150Z",
     "start_time": "2021-04-13T14:38:59.005158Z"
    }
   },
   "outputs": [],
   "source": [
    "def radiation_interpolation(tile_key, block_x, block_y, chunk_cloudobject, storage):\n",
    "    tile_id, _ = os.path.splitext(tile_key)\n",
    "    print(tile_id)\n",
    "\n",
    "    # Write tile chunk to file\n",
    "    chunk_file = os.path.join(tempfile.gettempdir(), tile_id + str(block_x) + '_' + str(block_y) + '.tif')\n",
    "    print(chunk_file)\n",
    "\n",
    "    chunk_cloudobject.to_file(chunk_file)\n",
    "\n",
    "    with rasterio.open(chunk_file, 'r') as chunk_src:\n",
    "        profile = chunk_src.profile\n",
    "\n",
    "    extr_chunk_file = os.path.join(tempfile.gettempdir(), tile_id + '_extr_' + str(block_x) + '_' + str(block_y) + '.tif')\n",
    "    rad_chunk_file = os.path.join(tempfile.gettempdir(), tile_id + '_rad_' + str(block_x) + '_' + str(block_y) + '.tif')\n",
    "\n",
    "    # Compute solar irradiation from inputFile, creates radiation raster at outputFile\n",
    "    extraterrestrial_irradiation = compute_solar_irradiation(inputFile=chunk_file, outputFile=rad_chunk_file)\n",
    "\n",
    "    # Create and store a raster with extraterrestrial irradiation\n",
    "    with rasterio.open(extr_chunk_file, 'w', **profile) as dest:\n",
    "        data = np.full((profile['height'], profile['width']), extraterrestrial_irradiation, dtype='float32')\n",
    "        dest.write(data, 1)\n",
    "\n",
    "    with open(extr_chunk_file, 'rb') as f:\n",
    "        extr_co = storage.put_cloudobject(body=f, bucket=DATA_BUCKET)\n",
    "\n",
    "    with open(rad_chunk_file, 'rb') as f:\n",
    "        rad_co = storage.put_cloudobject(body=f, bucket=DATA_BUCKET)\n",
    "\n",
    "    return [(tile_key, 'extr', block_x, block_y, extr_co), (tile_key, 'rad', block_x, block_y, rad_co)]"
   ]
  },
  {
   "cell_type": "code",
   "execution_count": 26,
   "metadata": {
    "ExecuteTime": {
     "end_time": "2021-04-13T14:39:01.538202Z",
     "start_time": "2021-04-13T14:39:01.521080Z"
    }
   },
   "outputs": [],
   "source": [
    "def map_interpolation(tile_key, block_x, block_y, chunk_cloudobject, data_field, storage):\n",
    "    tile_id, _ = os.path.splitext(tile_key)\n",
    "\n",
    "    # Get SIAM meteo data\n",
    "    siam_stream = storage.get_object(DATA_BUCKET, siam_data_key, stream=True)\n",
    "    siam_data = pd.read_csv(siam_stream)\n",
    "\n",
    "    # print(siam_data)\n",
    "    chunk_file = os.path.join(tempfile.gettempdir(), f\"{tile_id}_{block_x}_{block_y}.tif\")\n",
    "    chunk_cloudobject.to_file(chunk_file)\n",
    "\n",
    "    # Abre el fichero recién generado\n",
    "    with rasterio.open(chunk_file, 'r') as chunk_src:\n",
    "        transform = chunk_src.transform\n",
    "        profile = chunk_src.profile\n",
    "\n",
    "        bounding_rect = box(chunk_src.bounds.left, chunk_src.bounds.top, chunk_src.bounds.right, chunk_src.bounds.bottom)\n",
    "        filtered = pd.DataFrame(filter_stations(bounding_rect, siam_data))\n",
    "        #print(filtered)\n",
    "\n",
    "        if filtered.shape[0] == 0:\n",
    "            return [(tile_key, data_field, block_x, block_y, None)]\n",
    "\n",
    "        filtered['pixel'] = filtered.apply(lambda station: rasterio.transform.rowcol(transform, station['X'], station['Y']), axis=1)\n",
    "\n",
    "        # Interpolate variables from meteo station data, generate raster with result\n",
    "        dest_chunk_file = os.path.join(tempfile.gettempdir(), tile_id + '_' + data_field + '_' + str(block_x) + '_' + str(block_y) + '.tif')\n",
    "\n",
    "        with rasterio.open(dest_chunk_file, 'w', **profile) as chunk_dest:\n",
    "            if data_field == 'temp':\n",
    "                elevations = chunk_src.read(1)  # Get elevations content\n",
    "                print(dest_chunk_file)\n",
    "                interpolation = compute_basic_interpolation(elevations.shape, filtered, 'tdet', (0, 0))\n",
    "                interpolation += r * (elevations - zdet)\n",
    "                chunk_dest.write(np.where(elevations == chunk_src.nodata, np.nan, interpolation), 1)\n",
    "            elif data_field == 'humi':\n",
    "                interpolation = compute_basic_interpolation((profile['height'], profile['width']), filtered, 'hr', (0, 0))\n",
    "                chunk_dest.write(interpolation, 1)\n",
    "            elif data_field == 'wind':\n",
    "                interpolation = compute_basic_interpolation((profile['height'], profile['width']), filtered, 'v', (0, 0))\n",
    "                chunk_dest.write(interpolation, 1)\n",
    "            else:\n",
    "                raise Exception(f'Unknown data field \"{data_field}\"')\n",
    "\n",
    "    # Upload results to storage as Cloudobject\n",
    "    with open(dest_chunk_file, 'rb') as f:\n",
    "        co = storage.put_cloudobject(body=f, bucket=DATA_BUCKET)\n",
    "\n",
    "    return [(tile_key, data_field, block_x, block_y, co)]"
   ]
  },
  {
   "cell_type": "code",
   "execution_count": 27,
   "metadata": {},
   "outputs": [],
   "source": [
    "from typing import List, Tuple\n",
    "\n",
    "\n",
    "def generate_iterdata(chunks) -> List[Tuple]:\n",
    "    \"\"\"Generates the iterdata array with the data blocks extracted from the COG.\"\"\"\n",
    "    iterdata = []\n",
    "    \n",
    "    for i, window in enumerate(chunks):\n",
    "        tile_key = window.tile_key\n",
    "        block_x = window.block_x\n",
    "        block_y = window.block_y\n",
    "        chunk_data = window\n",
    "        print((tile_key, block_x, block_y, chunk_data))\n",
    "\n",
    "        iterdata.append((tile_key, block_x, block_y, chunk_data))\n",
    "    \n",
    "    return iterdata"
   ]
  },
  {
   "cell_type": "code",
   "execution_count": 28,
   "metadata": {},
   "outputs": [
    {
     "name": "stdout",
     "output_type": "stream",
     "text": [
      "('PNOA_MDT05_ETRS89_HU30_0997B_LID.tif', 0, 0, <dataplug.formats.geospatial.cog.BlockWindowSlice object at 0x7bc652bc80a0>)\n",
      "('PNOA_MDT05_ETRS89_HU30_0997B_LID.tif', 0, 1, <dataplug.formats.geospatial.cog.BlockWindowSlice object at 0x7bc652bc81c0>)\n",
      "('PNOA_MDT05_ETRS89_HU30_0997B_LID.tif', 0, 2, <dataplug.formats.geospatial.cog.BlockWindowSlice object at 0x7bc652bc8190>)\n",
      "('PNOA_MDT05_ETRS89_HU30_0997B_LID.tif', 1, 0, <dataplug.formats.geospatial.cog.BlockWindowSlice object at 0x7bc652bc8100>)\n",
      "('PNOA_MDT05_ETRS89_HU30_0997B_LID.tif', 1, 1, <dataplug.formats.geospatial.cog.BlockWindowSlice object at 0x7bc652bc8220>)\n",
      "('PNOA_MDT05_ETRS89_HU30_0997B_LID.tif', 1, 2, <dataplug.formats.geospatial.cog.BlockWindowSlice object at 0x7bc652bc8250>)\n",
      "('PNOA_MDT05_ETRS89_HU30_0997B_LID.tif', 2, 0, <dataplug.formats.geospatial.cog.BlockWindowSlice object at 0x7bc652bc81f0>)\n",
      "('PNOA_MDT05_ETRS89_HU30_0997B_LID.tif', 2, 1, <dataplug.formats.geospatial.cog.BlockWindowSlice object at 0x7bc652bc82b0>)\n",
      "('PNOA_MDT05_ETRS89_HU30_0997B_LID.tif', 2, 2, <dataplug.formats.geospatial.cog.BlockWindowSlice object at 0x7bc652bc82e0>)\n"
     ]
    }
   ],
   "source": [
    "iterdata = generate_iterdata(chunks)"
   ]
  },
  {
   "cell_type": "code",
   "execution_count": 29,
   "metadata": {},
   "outputs": [],
   "source": [
    "#iterdata"
   ]
  },
  {
   "cell_type": "markdown",
   "metadata": {},
   "source": [
    "Lithops serverless computation:"
   ]
  },
  {
   "cell_type": "code",
   "execution_count": 30,
   "metadata": {
    "ExecuteTime": {
     "end_time": "2021-04-08T06:56:29.270356Z",
     "start_time": "2021-04-08T06:56:27.066344Z"
    }
   },
   "outputs": [
    {
     "name": "stderr",
     "output_type": "stream",
     "text": [
      "2025-03-28 16:50:30,867 [INFO] invokers.py:119 -- ExecutorID 83e80c-0 | JobID M000 - Selected Runtime: runtime-301b5a47-a1b6-437e-acb9-efc25660660b:fe8d63fd-0eb6-432c-9b82-b58fd81e09eb-amd64 - 2048MB\n",
      "2025-03-28 16:50:30,870 [DEBUG] storage.py:483 -- Runtime metadata not found in local cache. Retrieving it from storage\n",
      "2025-03-28 16:50:30,872 [DEBUG] storage.py:487 -- Trying to download runtime metadata from: aws_s3://lithopscloud-bucket-eftk5pvx5np5/lithops.runtimes/aws_lambda/3.5.2.dev0/us-east-1/lithops-worker-f7yr-352dev0-48d2bfee9b.meta.json\n",
      "2025-03-28 16:50:30,893 [DEBUG] storage.py:509 -- Runtime metadata not found in storage\n",
      "2025-03-28 16:50:30,895 [INFO] invokers.py:127 -- Runtime runtime-301b5a47-a1b6-437e-acb9-efc25660660b:fe8d63fd-0eb6-432c-9b82-b58fd81e09eb-amd64 with 2048MB is not yet deployed\n",
      "2025-03-28 16:50:30,896 [INFO] aws_lambda.py:448 -- Deploying runtime: runtime-301b5a47-a1b6-437e-acb9-efc25660660b:fe8d63fd-0eb6-432c-9b82-b58fd81e09eb-amd64 - Memory: 2048 Timeout: 120\n",
      "2025-03-28 16:50:56,919 [DEBUG] aws_lambda.py:155 -- \"lithops-worker-f7yr-352dev0-48d2bfee9b\" function is being deployed... (status: Pending)\n",
      "2025-03-28 16:51:22,024 [DEBUG] aws_lambda.py:155 -- \"lithops-worker-f7yr-352dev0-48d2bfee9b\" function is being deployed... (status: Pending)\n",
      "2025-03-28 16:51:22,140 [DEBUG] aws_lambda.py:165 -- Ok --> function \"lithops-worker-f7yr-352dev0-48d2bfee9b\" is active\n",
      "2025-03-28 16:51:22,143 [DEBUG] aws_lambda.py:528 -- OK --> Created lambda function lithops-worker-f7yr-352dev0-48d2bfee9b\n",
      "2025-03-28 16:51:22,145 [DEBUG] aws_lambda.py:712 -- Extracting runtime metadata from: runtime-301b5a47-a1b6-437e-acb9-efc25660660b:fe8d63fd-0eb6-432c-9b82-b58fd81e09eb-amd64\n",
      "2025-03-28 16:51:30,120 [DEBUG] storage.py:520 -- Uploading runtime metadata to: aws_s3://lithopscloud-bucket-eftk5pvx5np5/lithops.runtimes/aws_lambda/3.5.2.dev0/us-east-1/lithops-worker-f7yr-352dev0-48d2bfee9b.meta.json\n",
      "2025-03-28 16:51:30,192 [DEBUG] aws_s3.py:106 -- PUT Object lithops.runtimes/aws_lambda/3.5.2.dev0/us-east-1/lithops-worker-f7yr-352dev0-48d2bfee9b.meta.json - Size: 9.4KiB - OK\n",
      "2025-03-28 16:51:30,193 [DEBUG] storage.py:526 -- Storing runtime metadata into local cache: /tmp/.lithops/cache/lithops.runtimes/aws_lambda/3.5.2.dev0/us-east-1/lithops-worker-f7yr-352dev0-48d2bfee9b.meta.json\n",
      "2025-03-28 16:51:30,196 [DEBUG] job.py:242 -- ExecutorID 83e80c-0 | JobID M000 - Serializing function and data\n",
      "2025-03-28 16:51:30,314 [DEBUG] serialize.py:75 -- Referenced Modules: grass_session, numpy, rasterio, io, tempfile, re, logging, os, __main__, dataplug, shutil\n",
      "2025-03-28 16:51:30,316 [DEBUG] module_dependency.py:109 -- Module 'grass_session' is already installed in the runtime, skipping\n",
      "2025-03-28 16:51:30,317 [DEBUG] module_dependency.py:109 -- Module 'numpy' is already installed in the runtime, skipping\n",
      "2025-03-28 16:51:30,319 [DEBUG] module_dependency.py:109 -- Module 'rasterio' is already installed in the runtime, skipping\n",
      "2025-03-28 16:51:30,320 [DEBUG] module_dependency.py:109 -- Module 'io' is already installed in the runtime, skipping\n",
      "2025-03-28 16:51:30,321 [DEBUG] module_dependency.py:109 -- Module 'tempfile' is already installed in the runtime, skipping\n",
      "2025-03-28 16:51:30,324 [DEBUG] module_dependency.py:109 -- Module 're' is already installed in the runtime, skipping\n",
      "2025-03-28 16:51:30,325 [DEBUG] module_dependency.py:109 -- Module 'logging' is already installed in the runtime, skipping\n",
      "2025-03-28 16:51:30,326 [DEBUG] module_dependency.py:109 -- Module 'os' is already installed in the runtime, skipping\n",
      "2025-03-28 16:51:30,329 [DEBUG] module_dependency.py:109 -- Module 'dataplug' is already installed in the runtime, skipping\n",
      "2025-03-28 16:51:30,330 [DEBUG] module_dependency.py:109 -- Module 'shutil' is already installed in the runtime, skipping\n",
      "2025-03-28 16:51:30,331 [DEBUG] serialize.py:120 -- Modules to transmit: None\n",
      "2025-03-28 16:51:30,332 [DEBUG] job.py:276 -- ExecutorID 83e80c-0 | JobID M000 - Uploading function and modules to the storage backend\n",
      "2025-03-28 16:51:30,485 [DEBUG] aws_s3.py:106 -- PUT Object lithops.jobs/83e80c-0/398ff3ca31d641fa969e2f07d1f8841c.func.pickle - Size: 10.0KiB - OK\n",
      "2025-03-28 16:51:30,487 [DEBUG] job.py:316 -- ExecutorID 83e80c-0 | JobID M000 - Data per activation is < 8.0KiB. Passing data through invocation payload\n",
      "2025-03-28 16:51:30,488 [INFO] invokers.py:188 -- ExecutorID 83e80c-0 | JobID M000 - Starting function invocation: radiation_interpolation() - Total: 9 activations\n",
      "2025-03-28 16:51:30,491 [DEBUG] metrics.py:56 -- Sending metric 'job_total_calls' with value 9 and labels {'job_id': '83e80c-0-M000', 'function_name': 'radiation_interpolation'} to https://metrics.pyrun.cloud/metrics\n",
      "2025-03-28 16:51:32,179 [DEBUG] metrics.py:70 -- Metric sent successfully: 204, \n",
      "2025-03-28 16:51:32,182 [DEBUG] metrics.py:56 -- Sending metric 'job_runtime_memory' with value 2048 and labels {'job_id': '83e80c-0-M000', 'function_name': 'radiation_interpolation'} to https://metrics.pyrun.cloud/metrics\n",
      "2025-03-28 16:51:32,301 [DEBUG] metrics.py:70 -- Metric sent successfully: 204, \n",
      "2025-03-28 16:51:32,304 [DEBUG] invokers.py:214 -- ExecutorID 83e80c-0 | JobID M000 - Worker processes: 1 - Chunksize: 1\n",
      "2025-03-28 16:51:32,306 [DEBUG] invokers.py:318 -- ExecutorID 83e80c-0 - Async invoker 0 started\n",
      "2025-03-28 16:51:32,308 [DEBUG] invokers.py:318 -- ExecutorID 83e80c-0 - Async invoker 1 started\n",
      "2025-03-28 16:51:32,309 [DEBUG] invokers.py:447 -- ExecutorID 83e80c-0 | JobID M000 - Free workers: 1000 - Going to run 9 activations in 9 workers\n",
      "2025-03-28 16:51:32,366 [INFO] invokers.py:227 -- ExecutorID 83e80c-0 | JobID M000 - View execution logs at /tmp/lithops-root/logs/83e80c-0-M000.log\n",
      "2025-03-28 16:51:32,377 [DEBUG] monitor.py:429 -- ExecutorID 83e80c-0 - Starting Storage job monitor\n",
      "2025-03-28 16:51:32,379 [INFO] executors.py:507 -- ExecutorID 83e80c-0 - Getting results from 9 function activations\n",
      "2025-03-28 16:51:32,385 [INFO] wait.py:101 -- ExecutorID 83e80c-0 - Waiting for 9 function activations to complete\n",
      "2025-03-28 16:51:32,478 [DEBUG] invokers.py:390 -- ExecutorID 83e80c-0 | JobID M000 - Calls 00001 invoked (0.161s) - Activation ID: 8d4c2b16-24a1-433a-b9ce-97aceae33fcf\n",
      "2025-03-28 16:51:32,480 [DEBUG] invokers.py:390 -- ExecutorID 83e80c-0 | JobID M000 - Calls 00003 invoked (0.153s) - Activation ID: 567d5e96-3d6c-4997-9fd6-06d29783de2b\n",
      "2025-03-28 16:51:32,480 [DEBUG] invokers.py:390 -- ExecutorID 83e80c-0 | JobID M000 - Calls 00002 invoked (0.159s) - Activation ID: a9bb10df-5ba2-4d92-b7e9-0b000d0e0566\n",
      "2025-03-28 16:51:32,485 [DEBUG] invokers.py:390 -- ExecutorID 83e80c-0 | JobID M000 - Calls 00004 invoked (0.156s) - Activation ID: d49b5a0d-d83f-4d37-8a51-e5e6efd10e4c\n",
      "2025-03-28 16:51:32,488 [DEBUG] invokers.py:390 -- ExecutorID 83e80c-0 | JobID M000 - Calls 00006 invoked (0.151s) - Activation ID: e1eb6fb7-23a7-4252-9cc5-d085593fe9c7\n",
      "2025-03-28 16:51:32,487 [DEBUG] invokers.py:390 -- ExecutorID 83e80c-0 | JobID M000 - Calls 00005 invoked (0.156s) - Activation ID: 93a10683-68d6-4f54-bb06-8667a49c0b48\n",
      "2025-03-28 16:51:32,497 [DEBUG] invokers.py:390 -- ExecutorID 83e80c-0 | JobID M000 - Calls 00007 invoked (0.152s) - Activation ID: 4c253634-dbb9-4994-9117-f53c9fe6ef78\n",
      "2025-03-28 16:51:32,500 [DEBUG] invokers.py:390 -- ExecutorID 83e80c-0 | JobID M000 - Calls 00000 invoked (0.188s) - Activation ID: 4701c867-5cb5-41d1-bb1b-bafb23362049\n",
      "2025-03-28 16:51:32,508 [DEBUG] invokers.py:390 -- ExecutorID 83e80c-0 | JobID M000 - Calls 00008 invoked (0.152s) - Activation ID: 1673de35-4a8f-4e5b-8b1a-7e78970312af\n",
      "2025-03-28 16:51:34,605 [DEBUG] monitor.py:144 -- ExecutorID 83e80c-0 - Pending: 0 - Running: 9 - Done: 0\n",
      "2025-03-28 16:51:44,985 [DEBUG] monitor.py:144 -- ExecutorID 83e80c-0 - Pending: 0 - Running: 8 - Done: 1\n",
      "2025-03-28 16:51:45,429 [DEBUG] future.py:229 -- ExecutorID 83e80c-0 | JobID M000 - Got status from call 00001 - Activation ID: 8d4c2b16-24a1-433a-b9ce-97aceae33fcf - Time: 11.41 seconds\n",
      "2025-03-28 16:51:45,430 [WARNING] future.py:254 -- ExecutorID 83e80c-0 | JobID M000 - CallID: 00001 - There was an exception - Activation ID: 8d4c2b16-24a1-433a-b9ce-97aceae33fcf - MemoryError\n",
      "2025-03-28 16:51:45,438 [DEBUG] invokers.py:345 -- ExecutorID 83e80c-0 - Stopping async invokers\n",
      "2025-03-28 16:51:45,454 [DEBUG] monitor.py:144 -- ExecutorID 83e80c-0 - Pending: 0 - Running: 8 - Done: 1\n",
      "2025-03-28 16:51:45,459 [INFO] executors.py:631 -- ExecutorID 83e80c-0 - Cleaning temporary data\n",
      "2025-03-28 16:51:45,455 [DEBUG] invokers.py:332 -- ExecutorID 83e80c-0 - Async invoker 1 finished\n",
      "2025-03-28 16:51:45,454 [DEBUG] invokers.py:332 -- ExecutorID 83e80c-0 - Async invoker 0 finished\n",
      "2025-03-28 16:51:45,487 [DEBUG] monitor.py:457 -- ExecutorID 83e80c-0 - Storage job monitor finished\n"
     ]
    },
    {
     "ename": "MemoryError",
     "evalue": "Function exceeded maximum memory and was killed",
     "output_type": "error",
     "traceback": [
      "\u001b[0;31m---------------------------------------------------------------------------\u001b[0m",
      "\u001b[0;31mMemoryError\u001b[0m                               Traceback (most recent call last)",
      "Cell \u001b[0;32mIn[30], line 1\u001b[0m\n\u001b[0;32m----> 1\u001b[0m res_rad \u001b[38;5;241m=\u001b[39m \u001b[43mfexec\u001b[49m\u001b[38;5;241;43m.\u001b[39;49m\u001b[43mmap\u001b[49m\u001b[43m(\u001b[49m\u001b[43mradiation_interpolation\u001b[49m\u001b[43m,\u001b[49m\u001b[43m \u001b[49m\u001b[43miterdata\u001b[49m\u001b[43m,\u001b[49m\u001b[43m \u001b[49m\u001b[43mruntime_memory\u001b[49m\u001b[38;5;241;43m=\u001b[39;49m\u001b[38;5;241;43m2048\u001b[39;49m\u001b[43m)\u001b[49m\u001b[38;5;241;43m.\u001b[39;49m\u001b[43mget_result\u001b[49m\u001b[43m(\u001b[49m\u001b[43m)\u001b[49m\n\u001b[1;32m      2\u001b[0m res_temp \u001b[38;5;241m=\u001b[39m fexec\u001b[38;5;241m.\u001b[39mmap(map_interpolation, iterdata, extra_args\u001b[38;5;241m=\u001b[39m(\u001b[38;5;124m'\u001b[39m\u001b[38;5;124mtemp\u001b[39m\u001b[38;5;124m'\u001b[39m, ), runtime_memory\u001b[38;5;241m=\u001b[39m\u001b[38;5;241m2048\u001b[39m)\u001b[38;5;241m.\u001b[39mget_result()\n\u001b[1;32m      3\u001b[0m res_humi \u001b[38;5;241m=\u001b[39m fexec\u001b[38;5;241m.\u001b[39mmap(map_interpolation, iterdata, extra_args\u001b[38;5;241m=\u001b[39m(\u001b[38;5;124m'\u001b[39m\u001b[38;5;124mhumi\u001b[39m\u001b[38;5;124m'\u001b[39m, ), runtime_memory\u001b[38;5;241m=\u001b[39m\u001b[38;5;241m2048\u001b[39m)\u001b[38;5;241m.\u001b[39mget_result()\n",
      "File \u001b[0;32m/usr/local/lib/python3.10/site-packages/lithops/utils.py:142\u001b[0m, in \u001b[0;36mFuturesList.get_result\u001b[0;34m(self, **kwargs)\u001b[0m\n\u001b[1;32m    140\u001b[0m \u001b[38;5;28mself\u001b[39m\u001b[38;5;241m.\u001b[39m_create_executor()\n\u001b[1;32m    141\u001b[0m fs_tt \u001b[38;5;241m=\u001b[39m \u001b[38;5;28mself\u001b[39m\u001b[38;5;241m.\u001b[39malt_list \u001b[38;5;28;01mif\u001b[39;00m \u001b[38;5;28mhasattr\u001b[39m(\u001b[38;5;28mself\u001b[39m, \u001b[38;5;124m'\u001b[39m\u001b[38;5;124malt_list\u001b[39m\u001b[38;5;124m'\u001b[39m) \u001b[38;5;28;01melse\u001b[39;00m \u001b[38;5;28mself\u001b[39m\n\u001b[0;32m--> 142\u001b[0m \u001b[38;5;28;01mreturn\u001b[39;00m \u001b[38;5;28;43mself\u001b[39;49m\u001b[38;5;241;43m.\u001b[39;49m\u001b[43mexecutor\u001b[49m\u001b[38;5;241;43m.\u001b[39;49m\u001b[43mget_result\u001b[49m\u001b[43m(\u001b[49m\u001b[43mfs_tt\u001b[49m\u001b[43m,\u001b[49m\u001b[43m \u001b[49m\u001b[38;5;241;43m*\u001b[39;49m\u001b[38;5;241;43m*\u001b[39;49m\u001b[43mkwargs\u001b[49m\u001b[43m)\u001b[49m\n",
      "File \u001b[0;32m/usr/local/lib/python3.10/site-packages/lithops/executors.py:512\u001b[0m, in \u001b[0;36mFunctionExecutor.get_result\u001b[0;34m(self, fs, throw_except, timeout, threadpool_size, wait_dur_sec, show_progressbar)\u001b[0m\n\u001b[1;32m    504\u001b[0m pending_to_read \u001b[38;5;241m=\u001b[39m \u001b[38;5;28mlen\u001b[39m(fs) \u001b[38;5;28;01mif\u001b[39;00m fs \u001b[38;5;28;01melse\u001b[39;00m \u001b[38;5;28mlen\u001b[39m(\n\u001b[1;32m    505\u001b[0m     [f \u001b[38;5;28;01mfor\u001b[39;00m f \u001b[38;5;129;01min\u001b[39;00m \u001b[38;5;28mself\u001b[39m\u001b[38;5;241m.\u001b[39mfutures \u001b[38;5;28;01mif\u001b[39;00m \u001b[38;5;129;01mnot\u001b[39;00m f\u001b[38;5;241m.\u001b[39m_read \u001b[38;5;129;01mand\u001b[39;00m \u001b[38;5;129;01mnot\u001b[39;00m f\u001b[38;5;241m.\u001b[39mfutures])\n\u001b[1;32m    507\u001b[0m logger\u001b[38;5;241m.\u001b[39minfo(\n\u001b[1;32m    508\u001b[0m     (\u001b[38;5;124mf\u001b[39m\u001b[38;5;124m'\u001b[39m\u001b[38;5;124mExecutorID \u001b[39m\u001b[38;5;132;01m{\u001b[39;00m\u001b[38;5;28mself\u001b[39m\u001b[38;5;241m.\u001b[39mexecutor_id\u001b[38;5;132;01m}\u001b[39;00m\u001b[38;5;124m - Getting results from \u001b[39m\u001b[38;5;124m'\u001b[39m\n\u001b[1;32m    509\u001b[0m      \u001b[38;5;124mf\u001b[39m\u001b[38;5;124m'\u001b[39m\u001b[38;5;132;01m{\u001b[39;00mpending_to_read\u001b[38;5;132;01m}\u001b[39;00m\u001b[38;5;124m function activations\u001b[39m\u001b[38;5;124m'\u001b[39m)\n\u001b[1;32m    510\u001b[0m )\n\u001b[0;32m--> 512\u001b[0m fs_done, _ \u001b[38;5;241m=\u001b[39m \u001b[38;5;28;43mself\u001b[39;49m\u001b[38;5;241;43m.\u001b[39;49m\u001b[43mwait\u001b[49m\u001b[43m(\u001b[49m\n\u001b[1;32m    513\u001b[0m \u001b[43m    \u001b[49m\u001b[43mfs\u001b[49m\u001b[38;5;241;43m=\u001b[39;49m\u001b[43mfs\u001b[49m\u001b[43m,\u001b[49m\n\u001b[1;32m    514\u001b[0m \u001b[43m    \u001b[49m\u001b[43mthrow_except\u001b[49m\u001b[38;5;241;43m=\u001b[39;49m\u001b[43mthrow_except\u001b[49m\u001b[43m,\u001b[49m\n\u001b[1;32m    515\u001b[0m \u001b[43m    \u001b[49m\u001b[43mtimeout\u001b[49m\u001b[38;5;241;43m=\u001b[39;49m\u001b[43mtimeout\u001b[49m\u001b[43m,\u001b[49m\n\u001b[1;32m    516\u001b[0m \u001b[43m    \u001b[49m\u001b[43mdownload_results\u001b[49m\u001b[38;5;241;43m=\u001b[39;49m\u001b[38;5;28;43;01mTrue\u001b[39;49;00m\u001b[43m,\u001b[49m\n\u001b[1;32m    517\u001b[0m \u001b[43m    \u001b[49m\u001b[43mthreadpool_size\u001b[49m\u001b[38;5;241;43m=\u001b[39;49m\u001b[43mthreadpool_size\u001b[49m\u001b[43m,\u001b[49m\n\u001b[1;32m    518\u001b[0m \u001b[43m    \u001b[49m\u001b[43mwait_dur_sec\u001b[49m\u001b[38;5;241;43m=\u001b[39;49m\u001b[43mwait_dur_sec\u001b[49m\u001b[43m,\u001b[49m\n\u001b[1;32m    519\u001b[0m \u001b[43m    \u001b[49m\u001b[43mshow_progressbar\u001b[49m\u001b[38;5;241;43m=\u001b[39;49m\u001b[43mshow_progressbar\u001b[49m\n\u001b[1;32m    520\u001b[0m \u001b[43m\u001b[49m\u001b[43m)\u001b[49m\n\u001b[1;32m    522\u001b[0m result \u001b[38;5;241m=\u001b[39m []\n\u001b[1;32m    523\u001b[0m \u001b[38;5;28;01mfor\u001b[39;00m f \u001b[38;5;129;01min\u001b[39;00m [f \u001b[38;5;28;01mfor\u001b[39;00m f \u001b[38;5;129;01min\u001b[39;00m fs_done \u001b[38;5;28;01mif\u001b[39;00m \u001b[38;5;129;01mnot\u001b[39;00m f\u001b[38;5;241m.\u001b[39mfutures \u001b[38;5;129;01mand\u001b[39;00m f\u001b[38;5;241m.\u001b[39m_produce_output]:\n",
      "File \u001b[0;32m/usr/local/lib/python3.10/site-packages/lithops/executors.py:472\u001b[0m, in \u001b[0;36mFunctionExecutor.wait\u001b[0;34m(self, fs, throw_except, return_when, download_results, timeout, threadpool_size, wait_dur_sec, show_progressbar)\u001b[0m\n\u001b[1;32m    470\u001b[0m         \u001b[38;5;28mself\u001b[39m\u001b[38;5;241m.\u001b[39mcompute_handler\u001b[38;5;241m.\u001b[39mclear(present_jobs, exception\u001b[38;5;241m=\u001b[39me)\n\u001b[1;32m    471\u001b[0m         \u001b[38;5;28mself\u001b[39m\u001b[38;5;241m.\u001b[39mclean(clean_cloudobjects\u001b[38;5;241m=\u001b[39m\u001b[38;5;28;01mFalse\u001b[39;00m, force\u001b[38;5;241m=\u001b[39m\u001b[38;5;28;01mTrue\u001b[39;00m)\n\u001b[0;32m--> 472\u001b[0m     \u001b[38;5;28;01mraise\u001b[39;00m e\n\u001b[1;32m    474\u001b[0m \u001b[38;5;28;01mif\u001b[39;00m download_results:\n\u001b[1;32m    475\u001b[0m     fs_done \u001b[38;5;241m=\u001b[39m [f \u001b[38;5;28;01mfor\u001b[39;00m f \u001b[38;5;129;01min\u001b[39;00m futures \u001b[38;5;28;01mif\u001b[39;00m f\u001b[38;5;241m.\u001b[39mdone]\n",
      "File \u001b[0;32m/usr/local/lib/python3.10/site-packages/lithops/executors.py:447\u001b[0m, in \u001b[0;36mFunctionExecutor.wait\u001b[0;34m(self, fs, throw_except, return_when, download_results, timeout, threadpool_size, wait_dur_sec, show_progressbar)\u001b[0m\n\u001b[1;32m    444\u001b[0m     futures \u001b[38;5;241m=\u001b[39m [futures]\n\u001b[1;32m    446\u001b[0m \u001b[38;5;28;01mtry\u001b[39;00m:\n\u001b[0;32m--> 447\u001b[0m     \u001b[43mwait\u001b[49m\u001b[43m(\u001b[49m\u001b[43mfs\u001b[49m\u001b[38;5;241;43m=\u001b[39;49m\u001b[43mfutures\u001b[49m\u001b[43m,\u001b[49m\n\u001b[1;32m    448\u001b[0m \u001b[43m         \u001b[49m\u001b[43minternal_storage\u001b[49m\u001b[38;5;241;43m=\u001b[39;49m\u001b[38;5;28;43mself\u001b[39;49m\u001b[38;5;241;43m.\u001b[39;49m\u001b[43minternal_storage\u001b[49m\u001b[43m,\u001b[49m\n\u001b[1;32m    449\u001b[0m \u001b[43m         \u001b[49m\u001b[43mjob_monitor\u001b[49m\u001b[38;5;241;43m=\u001b[39;49m\u001b[38;5;28;43mself\u001b[39;49m\u001b[38;5;241;43m.\u001b[39;49m\u001b[43mjob_monitor\u001b[49m\u001b[43m,\u001b[49m\n\u001b[1;32m    450\u001b[0m \u001b[43m         \u001b[49m\u001b[43mdownload_results\u001b[49m\u001b[38;5;241;43m=\u001b[39;49m\u001b[43mdownload_results\u001b[49m\u001b[43m,\u001b[49m\n\u001b[1;32m    451\u001b[0m \u001b[43m         \u001b[49m\u001b[43mthrow_except\u001b[49m\u001b[38;5;241;43m=\u001b[39;49m\u001b[43mthrow_except\u001b[49m\u001b[43m,\u001b[49m\n\u001b[1;32m    452\u001b[0m \u001b[43m         \u001b[49m\u001b[43mreturn_when\u001b[49m\u001b[38;5;241;43m=\u001b[39;49m\u001b[43mreturn_when\u001b[49m\u001b[43m,\u001b[49m\n\u001b[1;32m    453\u001b[0m \u001b[43m         \u001b[49m\u001b[43mtimeout\u001b[49m\u001b[38;5;241;43m=\u001b[39;49m\u001b[43mtimeout\u001b[49m\u001b[43m,\u001b[49m\n\u001b[1;32m    454\u001b[0m \u001b[43m         \u001b[49m\u001b[43mthreadpool_size\u001b[49m\u001b[38;5;241;43m=\u001b[39;49m\u001b[43mthreadpool_size\u001b[49m\u001b[43m,\u001b[49m\n\u001b[1;32m    455\u001b[0m \u001b[43m         \u001b[49m\u001b[43mwait_dur_sec\u001b[49m\u001b[38;5;241;43m=\u001b[39;49m\u001b[43mwait_dur_sec\u001b[49m\u001b[43m,\u001b[49m\n\u001b[1;32m    456\u001b[0m \u001b[43m         \u001b[49m\u001b[43mshow_progressbar\u001b[49m\u001b[38;5;241;43m=\u001b[39;49m\u001b[43mshow_progressbar\u001b[49m\u001b[43m,\u001b[49m\n\u001b[1;32m    457\u001b[0m \u001b[43m         \u001b[49m\u001b[43mfutures_from_executor_wait\u001b[49m\u001b[38;5;241;43m=\u001b[39;49m\u001b[38;5;28;43;01mFalse\u001b[39;49;00m\u001b[43m \u001b[49m\u001b[38;5;28;43;01mif\u001b[39;49;00m\u001b[43m \u001b[49m\u001b[43mfs\u001b[49m\u001b[43m \u001b[49m\u001b[38;5;28;43;01melse\u001b[39;49;00m\u001b[43m \u001b[49m\u001b[38;5;28;43;01mTrue\u001b[39;49;00m\u001b[43m)\u001b[49m\n\u001b[1;32m    459\u001b[0m     \u001b[38;5;28;01mif\u001b[39;00m \u001b[38;5;28mself\u001b[39m\u001b[38;5;241m.\u001b[39mdata_cleaner \u001b[38;5;129;01mand\u001b[39;00m return_when \u001b[38;5;241m==\u001b[39m ALL_COMPLETED:\n\u001b[1;32m    460\u001b[0m         present_jobs \u001b[38;5;241m=\u001b[39m {f\u001b[38;5;241m.\u001b[39mjob_key \u001b[38;5;28;01mfor\u001b[39;00m f \u001b[38;5;129;01min\u001b[39;00m futures}\n",
      "File \u001b[0;32m/usr/local/lib/python3.10/site-packages/lithops/wait.py:165\u001b[0m, in \u001b[0;36mwait\u001b[0;34m(fs, internal_storage, job_monitor, throw_except, return_when, download_results, timeout, threadpool_size, wait_dur_sec, show_progressbar, futures_from_executor_wait)\u001b[0m\n\u001b[1;32m    162\u001b[0m     \u001b[38;5;28;01mraise\u001b[39;00m e\n\u001b[1;32m    164\u001b[0m \u001b[38;5;28;01mexcept\u001b[39;00m \u001b[38;5;167;01mException\u001b[39;00m \u001b[38;5;28;01mas\u001b[39;00m e:\n\u001b[0;32m--> 165\u001b[0m     \u001b[38;5;28;01mraise\u001b[39;00m e\n\u001b[1;32m    167\u001b[0m \u001b[38;5;28;01mfinally\u001b[39;00m:\n\u001b[1;32m    168\u001b[0m     \u001b[38;5;28;01mif\u001b[39;00m is_unix_system():\n",
      "File \u001b[0;32m/usr/local/lib/python3.10/site-packages/lithops/wait.py:146\u001b[0m, in \u001b[0;36mwait\u001b[0;34m(fs, internal_storage, job_monitor, throw_except, return_when, download_results, timeout, threadpool_size, wait_dur_sec, show_progressbar, futures_from_executor_wait)\u001b[0m\n\u001b[1;32m    144\u001b[0m         \u001b[38;5;28;01mwhile\u001b[39;00m \u001b[38;5;129;01mnot\u001b[39;00m _check_done(fs, return_when, download_results):\n\u001b[1;32m    145\u001b[0m             \u001b[38;5;28;01mfor\u001b[39;00m executor_data \u001b[38;5;129;01min\u001b[39;00m executors_data:\n\u001b[0;32m--> 146\u001b[0m                 new_data \u001b[38;5;241m=\u001b[39m \u001b[43m_get_executor_data\u001b[49m\u001b[43m(\u001b[49m\u001b[43mfs\u001b[49m\u001b[43m,\u001b[49m\u001b[43m \u001b[49m\u001b[43mexecutor_data\u001b[49m\u001b[43m,\u001b[49m\u001b[43m \u001b[49m\u001b[43mpbar\u001b[49m\u001b[38;5;241;43m=\u001b[39;49m\u001b[43mpbar\u001b[49m\u001b[43m,\u001b[49m\n\u001b[1;32m    147\u001b[0m \u001b[43m                                              \u001b[49m\u001b[43mthrow_except\u001b[49m\u001b[38;5;241;43m=\u001b[39;49m\u001b[43mthrow_except\u001b[49m\u001b[43m,\u001b[49m\n\u001b[1;32m    148\u001b[0m \u001b[43m                                              \u001b[49m\u001b[43mdownload_results\u001b[49m\u001b[38;5;241;43m=\u001b[39;49m\u001b[43mdownload_results\u001b[49m\u001b[43m,\u001b[49m\n\u001b[1;32m    149\u001b[0m \u001b[43m                                              \u001b[49m\u001b[43mthreadpool_size\u001b[49m\u001b[38;5;241;43m=\u001b[39;49m\u001b[43mthreadpool_size\u001b[49m\u001b[43m)\u001b[49m\n\u001b[1;32m    150\u001b[0m             time\u001b[38;5;241m.\u001b[39msleep(\u001b[38;5;241m0\u001b[39m \u001b[38;5;28;01mif\u001b[39;00m new_data \u001b[38;5;28;01melse\u001b[39;00m sleep_sec)\n\u001b[1;32m    152\u001b[0m \u001b[38;5;28;01mexcept\u001b[39;00m \u001b[38;5;167;01mKeyboardInterrupt\u001b[39;00m \u001b[38;5;28;01mas\u001b[39;00m e:\n",
      "File \u001b[0;32m/usr/local/lib/python3.10/site-packages/lithops/wait.py:294\u001b[0m, in \u001b[0;36m_get_executor_data\u001b[0;34m(fs, exec_data, download_results, throw_except, threadpool_size, pbar)\u001b[0m\n\u001b[1;32m    292\u001b[0m pool \u001b[38;5;241m=\u001b[39m cf\u001b[38;5;241m.\u001b[39mThreadPoolExecutor(max_workers\u001b[38;5;241m=\u001b[39mthreadpool_size)\n\u001b[1;32m    293\u001b[0m \u001b[38;5;28;01mif\u001b[39;00m download_results:\n\u001b[0;32m--> 294\u001b[0m     \u001b[38;5;28;43mlist\u001b[39;49m\u001b[43m(\u001b[49m\u001b[43mpool\u001b[49m\u001b[38;5;241;43m.\u001b[39;49m\u001b[43mmap\u001b[49m\u001b[43m(\u001b[49m\u001b[43mget_result\u001b[49m\u001b[43m,\u001b[49m\u001b[43m \u001b[49m\u001b[43mfs_to_wait_on\u001b[49m\u001b[43m)\u001b[49m\u001b[43m)\u001b[49m\n\u001b[1;32m    295\u001b[0m \u001b[38;5;28;01melse\u001b[39;00m:\n\u001b[1;32m    296\u001b[0m     \u001b[38;5;28mlist\u001b[39m(pool\u001b[38;5;241m.\u001b[39mmap(get_status, fs_to_wait_on))\n",
      "File \u001b[0;32m/usr/local/lib/python3.10/concurrent/futures/_base.py:621\u001b[0m, in \u001b[0;36mExecutor.map.<locals>.result_iterator\u001b[0;34m()\u001b[0m\n\u001b[1;32m    618\u001b[0m \u001b[38;5;28;01mwhile\u001b[39;00m fs:\n\u001b[1;32m    619\u001b[0m     \u001b[38;5;66;03m# Careful not to keep a reference to the popped future\u001b[39;00m\n\u001b[1;32m    620\u001b[0m     \u001b[38;5;28;01mif\u001b[39;00m timeout \u001b[38;5;129;01mis\u001b[39;00m \u001b[38;5;28;01mNone\u001b[39;00m:\n\u001b[0;32m--> 621\u001b[0m         \u001b[38;5;28;01myield\u001b[39;00m \u001b[43m_result_or_cancel\u001b[49m\u001b[43m(\u001b[49m\u001b[43mfs\u001b[49m\u001b[38;5;241;43m.\u001b[39;49m\u001b[43mpop\u001b[49m\u001b[43m(\u001b[49m\u001b[43m)\u001b[49m\u001b[43m)\u001b[49m\n\u001b[1;32m    622\u001b[0m     \u001b[38;5;28;01melse\u001b[39;00m:\n\u001b[1;32m    623\u001b[0m         \u001b[38;5;28;01myield\u001b[39;00m _result_or_cancel(fs\u001b[38;5;241m.\u001b[39mpop(), end_time \u001b[38;5;241m-\u001b[39m time\u001b[38;5;241m.\u001b[39mmonotonic())\n",
      "File \u001b[0;32m/usr/local/lib/python3.10/concurrent/futures/_base.py:319\u001b[0m, in \u001b[0;36m_result_or_cancel\u001b[0;34m(***failed resolving arguments***)\u001b[0m\n\u001b[1;32m    317\u001b[0m \u001b[38;5;28;01mtry\u001b[39;00m:\n\u001b[1;32m    318\u001b[0m     \u001b[38;5;28;01mtry\u001b[39;00m:\n\u001b[0;32m--> 319\u001b[0m         \u001b[38;5;28;01mreturn\u001b[39;00m \u001b[43mfut\u001b[49m\u001b[38;5;241;43m.\u001b[39;49m\u001b[43mresult\u001b[49m\u001b[43m(\u001b[49m\u001b[43mtimeout\u001b[49m\u001b[43m)\u001b[49m\n\u001b[1;32m    320\u001b[0m     \u001b[38;5;28;01mfinally\u001b[39;00m:\n\u001b[1;32m    321\u001b[0m         fut\u001b[38;5;241m.\u001b[39mcancel()\n",
      "File \u001b[0;32m/usr/local/lib/python3.10/concurrent/futures/_base.py:458\u001b[0m, in \u001b[0;36mFuture.result\u001b[0;34m(self, timeout)\u001b[0m\n\u001b[1;32m    456\u001b[0m     \u001b[38;5;28;01mraise\u001b[39;00m CancelledError()\n\u001b[1;32m    457\u001b[0m \u001b[38;5;28;01melif\u001b[39;00m \u001b[38;5;28mself\u001b[39m\u001b[38;5;241m.\u001b[39m_state \u001b[38;5;241m==\u001b[39m FINISHED:\n\u001b[0;32m--> 458\u001b[0m     \u001b[38;5;28;01mreturn\u001b[39;00m \u001b[38;5;28;43mself\u001b[39;49m\u001b[38;5;241;43m.\u001b[39;49m\u001b[43m__get_result\u001b[49m\u001b[43m(\u001b[49m\u001b[43m)\u001b[49m\n\u001b[1;32m    459\u001b[0m \u001b[38;5;28;01melse\u001b[39;00m:\n\u001b[1;32m    460\u001b[0m     \u001b[38;5;28;01mraise\u001b[39;00m \u001b[38;5;167;01mTimeoutError\u001b[39;00m()\n",
      "File \u001b[0;32m/usr/local/lib/python3.10/concurrent/futures/_base.py:403\u001b[0m, in \u001b[0;36mFuture.__get_result\u001b[0;34m(self)\u001b[0m\n\u001b[1;32m    401\u001b[0m \u001b[38;5;28;01mif\u001b[39;00m \u001b[38;5;28mself\u001b[39m\u001b[38;5;241m.\u001b[39m_exception:\n\u001b[1;32m    402\u001b[0m     \u001b[38;5;28;01mtry\u001b[39;00m:\n\u001b[0;32m--> 403\u001b[0m         \u001b[38;5;28;01mraise\u001b[39;00m \u001b[38;5;28mself\u001b[39m\u001b[38;5;241m.\u001b[39m_exception\n\u001b[1;32m    404\u001b[0m     \u001b[38;5;28;01mfinally\u001b[39;00m:\n\u001b[1;32m    405\u001b[0m         \u001b[38;5;66;03m# Break a reference cycle with the exception in self._exception\u001b[39;00m\n\u001b[1;32m    406\u001b[0m         \u001b[38;5;28mself\u001b[39m \u001b[38;5;241m=\u001b[39m \u001b[38;5;28;01mNone\u001b[39;00m\n",
      "File \u001b[0;32m/usr/local/lib/python3.10/concurrent/futures/thread.py:58\u001b[0m, in \u001b[0;36m_WorkItem.run\u001b[0;34m(self)\u001b[0m\n\u001b[1;32m     55\u001b[0m     \u001b[38;5;28;01mreturn\u001b[39;00m\n\u001b[1;32m     57\u001b[0m \u001b[38;5;28;01mtry\u001b[39;00m:\n\u001b[0;32m---> 58\u001b[0m     result \u001b[38;5;241m=\u001b[39m \u001b[38;5;28;43mself\u001b[39;49m\u001b[38;5;241;43m.\u001b[39;49m\u001b[43mfn\u001b[49m\u001b[43m(\u001b[49m\u001b[38;5;241;43m*\u001b[39;49m\u001b[38;5;28;43mself\u001b[39;49m\u001b[38;5;241;43m.\u001b[39;49m\u001b[43margs\u001b[49m\u001b[43m,\u001b[49m\u001b[43m \u001b[49m\u001b[38;5;241;43m*\u001b[39;49m\u001b[38;5;241;43m*\u001b[39;49m\u001b[38;5;28;43mself\u001b[39;49m\u001b[38;5;241;43m.\u001b[39;49m\u001b[43mkwargs\u001b[49m\u001b[43m)\u001b[49m\n\u001b[1;32m     59\u001b[0m \u001b[38;5;28;01mexcept\u001b[39;00m \u001b[38;5;167;01mBaseException\u001b[39;00m \u001b[38;5;28;01mas\u001b[39;00m exc:\n\u001b[1;32m     60\u001b[0m     \u001b[38;5;28mself\u001b[39m\u001b[38;5;241m.\u001b[39mfuture\u001b[38;5;241m.\u001b[39mset_exception(exc)\n",
      "File \u001b[0;32m/usr/local/lib/python3.10/site-packages/lithops/wait.py:287\u001b[0m, in \u001b[0;36m_get_executor_data.<locals>.get_result\u001b[0;34m(f)\u001b[0m\n\u001b[1;32m    286\u001b[0m \u001b[38;5;28;01mdef\u001b[39;00m\u001b[38;5;250m \u001b[39m\u001b[38;5;21mget_result\u001b[39m(f):\n\u001b[0;32m--> 287\u001b[0m     \u001b[43mf\u001b[49m\u001b[38;5;241;43m.\u001b[39;49m\u001b[43mresult\u001b[49m\u001b[43m(\u001b[49m\u001b[43mthrow_except\u001b[49m\u001b[38;5;241;43m=\u001b[39;49m\u001b[43mthrow_except\u001b[49m\u001b[43m,\u001b[49m\u001b[43m \u001b[49m\u001b[43minternal_storage\u001b[49m\u001b[38;5;241;43m=\u001b[39;49m\u001b[43mexec_data\u001b[49m\u001b[38;5;241;43m.\u001b[39;49m\u001b[43minternal_storage\u001b[49m\u001b[43m)\u001b[49m\n",
      "File \u001b[0;32m/usr/local/lib/python3.10/site-packages/lithops/future.py:319\u001b[0m, in \u001b[0;36mResponseFuture.result\u001b[0;34m(self, throw_except, internal_storage, retries, wait_dur_sec)\u001b[0m\n\u001b[1;32m    316\u001b[0m \u001b[38;5;28;01mif\u001b[39;00m \u001b[38;5;129;01mnot\u001b[39;00m \u001b[38;5;28mself\u001b[39m\u001b[38;5;241m.\u001b[39mdone \u001b[38;5;129;01mand\u001b[39;00m internal_storage \u001b[38;5;129;01mis\u001b[39;00m \u001b[38;5;28;01mNone\u001b[39;00m:\n\u001b[1;32m    317\u001b[0m     internal_storage \u001b[38;5;241m=\u001b[39m InternalStorage(storage_config\u001b[38;5;241m=\u001b[39m\u001b[38;5;28mself\u001b[39m\u001b[38;5;241m.\u001b[39m_storage_config)\n\u001b[0;32m--> 319\u001b[0m \u001b[38;5;28;43mself\u001b[39;49m\u001b[38;5;241;43m.\u001b[39;49m\u001b[43mstatus\u001b[49m\u001b[43m(\u001b[49m\u001b[43mthrow_except\u001b[49m\u001b[38;5;241;43m=\u001b[39;49m\u001b[43mthrow_except\u001b[49m\u001b[43m,\u001b[49m\u001b[43m \u001b[49m\u001b[43minternal_storage\u001b[49m\u001b[38;5;241;43m=\u001b[39;49m\u001b[43minternal_storage\u001b[49m\u001b[43m,\u001b[49m\u001b[43m \u001b[49m\u001b[43mwait_dur_sec\u001b[49m\u001b[38;5;241;43m=\u001b[39;49m\u001b[43mwait_dur_sec\u001b[49m\u001b[43m)\u001b[49m\n\u001b[1;32m    321\u001b[0m \u001b[38;5;28;01mif\u001b[39;00m \u001b[38;5;28mself\u001b[39m\u001b[38;5;241m.\u001b[39mfutures:\n\u001b[1;32m    322\u001b[0m     \u001b[38;5;28mself\u001b[39m\u001b[38;5;241m.\u001b[39m_call_output \u001b[38;5;241m=\u001b[39m \u001b[38;5;28mself\u001b[39m\u001b[38;5;241m.\u001b[39m_new_futures\n",
      "File \u001b[0;32m/usr/local/lib/python3.10/site-packages/lithops/future.py:271\u001b[0m, in \u001b[0;36mResponseFuture.status\u001b[0;34m(self, throw_except, internal_storage, check_only, wait_dur_sec)\u001b[0m\n\u001b[1;32m    269\u001b[0m \u001b[38;5;28;01mif\u001b[39;00m throw_except:\n\u001b[1;32m    270\u001b[0m     sys\u001b[38;5;241m.\u001b[39mexcepthook \u001b[38;5;241m=\u001b[39m exception_hook\n\u001b[0;32m--> 271\u001b[0m     \u001b[43mreraise\u001b[49m\u001b[43m(\u001b[49m\u001b[38;5;241;43m*\u001b[39;49m\u001b[38;5;28;43mself\u001b[39;49m\u001b[38;5;241;43m.\u001b[39;49m\u001b[43m_exception\u001b[49m\u001b[43m)\u001b[49m\n\u001b[1;32m    272\u001b[0m \u001b[38;5;28;01melse\u001b[39;00m:\n\u001b[1;32m    273\u001b[0m     \u001b[38;5;28;01mreturn\u001b[39;00m \u001b[38;5;28;01mNone\u001b[39;00m\n",
      "File \u001b[0;32m/usr/local/lib/python3.10/site-packages/six.py:719\u001b[0m, in \u001b[0;36mreraise\u001b[0;34m(tp, value, tb)\u001b[0m\n\u001b[1;32m    717\u001b[0m     \u001b[38;5;28;01mif\u001b[39;00m value\u001b[38;5;241m.\u001b[39m__traceback__ \u001b[38;5;129;01mis\u001b[39;00m \u001b[38;5;129;01mnot\u001b[39;00m tb:\n\u001b[1;32m    718\u001b[0m         \u001b[38;5;28;01mraise\u001b[39;00m value\u001b[38;5;241m.\u001b[39mwith_traceback(tb)\n\u001b[0;32m--> 719\u001b[0m     \u001b[38;5;28;01mraise\u001b[39;00m value\n\u001b[1;32m    720\u001b[0m \u001b[38;5;28;01mfinally\u001b[39;00m:\n\u001b[1;32m    721\u001b[0m     value \u001b[38;5;241m=\u001b[39m \u001b[38;5;28;01mNone\u001b[39;00m\n",
      "File \u001b[0;32m/usr/local/lib/python3.10/site-packages/lithops/worker/handler.py:318\u001b[0m, in \u001b[0;36mrun_task\u001b[0;34m()\u001b[0m\n\u001b[1;32m    314\u001b[0m     \u001b[38;5;66;03m# Only 1 message is returned by jobrunner when it finishes.\u001b[39;00m\n\u001b[1;32m    315\u001b[0m     \u001b[38;5;66;03m# If no message, this means that the jobrunner process was killed.\u001b[39;00m\n\u001b[1;32m    316\u001b[0m     \u001b[38;5;66;03m# 99% of times the jobrunner is killed due an OOM, so we assume here an OOM.\u001b[39;00m\n\u001b[1;32m    317\u001b[0m     msg \u001b[38;5;241m=\u001b[39m \u001b[38;5;124m'\u001b[39m\u001b[38;5;124mFunction exceeded maximum memory and was killed\u001b[39m\u001b[38;5;124m'\u001b[39m\n\u001b[0;32m--> 318\u001b[0m     \u001b[38;5;28;01mraise\u001b[39;00m \u001b[38;5;167;01mMemoryError\u001b[39;00m(\u001b[38;5;124m'\u001b[39m\u001b[38;5;124mHANDLER\u001b[39m\u001b[38;5;124m'\u001b[39m, msg)\n\u001b[1;32m    320\u001b[0m \u001b[38;5;28;01mif\u001b[39;00m os\u001b[38;5;241m.\u001b[39mpath\u001b[38;5;241m.\u001b[39mexists(task\u001b[38;5;241m.\u001b[39mstats_file):\n\u001b[1;32m    321\u001b[0m     \u001b[38;5;28;01mwith\u001b[39;00m \u001b[38;5;28mopen\u001b[39m(task\u001b[38;5;241m.\u001b[39mstats_file, \u001b[38;5;124m'\u001b[39m\u001b[38;5;124mr\u001b[39m\u001b[38;5;124m'\u001b[39m) \u001b[38;5;28;01mas\u001b[39;00m fid:\n",
      "\u001b[0;31mMemoryError\u001b[0m: Function exceeded maximum memory and was killed"
     ]
    }
   ],
   "source": [
    "res_rad = fexec.map(radiation_interpolation, iterdata, runtime_memory=2048).get_result()\n",
    "res_temp = fexec.map(map_interpolation, iterdata, extra_args=('temp', ), runtime_memory=2048).get_result()\n",
    "res_humi = fexec.map(map_interpolation, iterdata, extra_args=('humi', ), runtime_memory=2048).get_result()\n",
    "res_wind = fexec.map(map_interpolation, iterdata, extra_args=('wind', ), runtime_memory=2048).get_result()"
   ]
  },
  {
   "cell_type": "code",
   "execution_count": 67,
   "metadata": {},
   "outputs": [],
   "source": [
    "res_flatten = []\n",
    "for l in [res_rad, res_temp, res_humi, res_wind]:\n",
    "    for elem in l:\n",
    "        for sub_elem in elem:\n",
    "            res_flatten.append(sub_elem)"
   ]
  },
  {
   "cell_type": "code",
   "execution_count": 68,
   "metadata": {},
   "outputs": [],
   "source": [
    "# res_flatten"
   ]
  },
  {
   "cell_type": "code",
   "execution_count": 69,
   "metadata": {},
   "outputs": [],
   "source": [
    "grouped_chunks = collections.defaultdict(list)\n",
    "\n",
    "for chunk_result in res_flatten:\n",
    "    tile_key, data_field, block_x, block_y, co = chunk_result\n",
    "    grouped_chunks[(tile_key, data_field)].append((block_x, block_y, co))"
   ]
  },
  {
   "cell_type": "code",
   "execution_count": 70,
   "metadata": {},
   "outputs": [],
   "source": [
    "# grouped_chunks"
   ]
  },
  {
   "cell_type": "markdown",
   "metadata": {},
   "source": [
    "Join split subsets into a tile:"
   ]
  },
  {
   "cell_type": "code",
   "execution_count": null,
   "metadata": {},
   "outputs": [],
   "source": [
    "def merge_blocks(tile_data, chunks, storage):\n",
    "    from rasterio.windows import Window\n",
    "\n",
    "    tile_key, data_field = tile_data\n",
    "\n",
    "    cobjs = [tup[2] for tup in chunks]\n",
    "    if None in cobjs:\n",
    "        return None\n",
    "\n",
    "    # Get width and height from original tile\n",
    "    tile_base, ext = os.path.splitext(tile_key)\n",
    "    if ext.lower() != '.tiff':\n",
    "        tile_key = tile_base + '.tiff'\n",
    "    source_tile_key = os.path.join(DTM_GEOTIFF_PREFIX, tile_key)\n",
    "    \n",
    "    with rasterio.open(BytesIO(storage.get_object(bucket=DATA_BUCKET, key=source_tile_key))) as source_tile:\n",
    "        height = source_tile.profile['height']\n",
    "        width = source_tile.profile['width']\n",
    "\n",
    "    # Open first object to obtain profile metadata\n",
    "    with rasterio.open(BytesIO(storage.get_cloudobject(chunks[0][2]))) as chunk_src:\n",
    "        profile = chunk_src.profile\n",
    "        profile.update(width=width)\n",
    "        profile.update(height=height)\n",
    "\n",
    "    # Iterate each object and print its block into the destination file\n",
    "    merged_file = os.path.join(tempfile.gettempdir(), data_field + '_' + tile_key)\n",
    "    with rasterio.open(merged_file, 'w', **profile) as dest:\n",
    "        for chunk in chunks:\n",
    "            j, i, co = chunk\n",
    "            with rasterio.open(BytesIO(storage.get_cloudobject(co))) as src:\n",
    "                step_w = math.floor(width / SPLITS)\n",
    "                step_h = math.floor(height / SPLITS)\n",
    "                curr_window = Window(round(step_w * i), round(step_h * j), src.width, src.height)\n",
    "                content = src.read(1)\n",
    "                dest.write(content, 1, window=curr_window)\n",
    "\n",
    "    output_key = os.path.join(DTM_PREFIX, data_field, tile_key)\n",
    "    with open(merged_file, 'rb') as out_file:\n",
    "        storage.put_object(bucket=DATA_BUCKET, key=output_key, body=out_file)\n",
    "\n",
    "    return output_key"
   ]
  },
  {
   "cell_type": "markdown",
   "metadata": {},
   "source": [
    "Combine previous split subsets:"
   ]
  },
  {
   "cell_type": "code",
   "execution_count": 119,
   "metadata": {},
   "outputs": [],
   "source": [
    "iterdata = []\n",
    "for (tile_id, data_field), chunks in grouped_chunks.items():\n",
    "    iterdata.append(((tile_id, data_field), chunks))"
   ]
  },
  {
   "cell_type": "code",
   "execution_count": 120,
   "metadata": {},
   "outputs": [],
   "source": [
    "#iterdata"
   ]
  },
  {
   "cell_type": "code",
   "execution_count": 121,
   "metadata": {},
   "outputs": [
    {
     "name": "stderr",
     "output_type": "stream",
     "text": [
      "2025-03-27 14:47:03,567 [INFO] invokers.py:119 -- ExecutorID 35bfa5-3 | JobID M010 - Selected Runtime: cloudbutton-wc:01 - 2048MB\n",
      "2025-03-27 14:47:04,083 [INFO] invokers.py:186 -- ExecutorID 35bfa5-3 | JobID M010 - Starting function invocation: merge_blocks() - Total: 5 activations\n",
      "2025-03-27 14:47:04,401 [ERROR] metrics.py:47 -- Failed to send metric: {\"message\":\"Not Found\"}\n",
      "2025-03-27 14:47:04,703 [ERROR] metrics.py:47 -- Failed to send metric: {\"message\":\"Not Found\"}\n",
      "2025-03-27 14:47:04,705 [INFO] invokers.py:225 -- ExecutorID 35bfa5-3 | JobID M010 - View execution logs at /tmp/lithops-usi/logs/35bfa5-3-M010.log\n"
     ]
    }
   ],
   "source": [
    "fs_merged = fexec.map(merge_blocks, iterdata, runtime_memory=2048)"
   ]
  },
  {
   "cell_type": "code",
   "execution_count": 122,
   "metadata": {},
   "outputs": [
    {
     "name": "stderr",
     "output_type": "stream",
     "text": [
      "2025-03-27 14:47:04,718 [INFO] executors.py:494 -- ExecutorID 35bfa5-3 - Getting results from 5 function activations\n",
      "2025-03-27 14:47:04,719 [INFO] wait.py:101 -- ExecutorID 35bfa5-3 - Waiting for 5 function activations to complete\n"
     ]
    },
    {
     "data": {
      "application/json": {
       "ascii": false,
       "bar_format": "  {l_bar}{bar}| {n_fmt}/{total_fmt}  ",
       "colour": null,
       "elapsed": 0.0026612281799316406,
       "initial": 0,
       "n": 0,
       "ncols": null,
       "nrows": null,
       "postfix": null,
       "prefix": "",
       "rate": null,
       "total": 5,
       "unit": "it",
       "unit_divisor": 1000,
       "unit_scale": false
      },
      "application/vnd.jupyter.widget-view+json": {
       "model_id": "cc2c36edf44445718d1e4c9adcc4ea16",
       "version_major": 2,
       "version_minor": 0
      },
      "text/plain": [
       "    0%|          | 0/5  "
      ]
     },
     "metadata": {},
     "output_type": "display_data"
    },
    {
     "name": "stderr",
     "output_type": "stream",
     "text": [
      "2025-03-27 14:47:09,733 [INFO] executors.py:618 -- ExecutorID 35bfa5-3 - Cleaning temporary data\n"
     ]
    }
   ],
   "source": [
    "tiles_merged = fexec.get_result(fs=fs_merged)"
   ]
  },
  {
   "cell_type": "code",
   "execution_count": 123,
   "metadata": {},
   "outputs": [],
   "source": [
    "tile_keys_merged = set([os.path.basename(t) for t in tiles_merged])"
   ]
  },
  {
   "cell_type": "code",
   "execution_count": 124,
   "metadata": {},
   "outputs": [],
   "source": [
    "# tile_keys_merged"
   ]
  },
  {
   "cell_type": "markdown",
   "metadata": {},
   "source": [
    "## Computation of potential evaporation"
   ]
  },
  {
   "cell_type": "code",
   "execution_count": 125,
   "metadata": {
    "ExecuteTime": {
     "end_time": "2021-04-13T16:57:51.493674Z",
     "start_time": "2021-04-13T16:57:51.485032Z"
    }
   },
   "outputs": [],
   "source": [
    "def compute_crop_evapotranspiration(temperatures,\n",
    "                                    humidities,\n",
    "                                    wind_speeds,\n",
    "                                    external_radiations,\n",
    "                                    global_radiations,\n",
    "                                    KCs):\n",
    "    gamma = 0.665*101.3/1000\n",
    "    eSat = 0.6108 * np.exp((17.27*temperatures)/(temperatures+237.3))\n",
    "    delta = 4098 * eSat / np.power((temperatures + 237.3),2)\n",
    "    eA = np.where(humidities < 0, 0, eSat * humidities / 100)     # Avoid sqrt of a negative number\n",
    "    T4 = 4.903 * np.power((273.3 + temperatures),4)/1000000000\n",
    "    rSrS0 = global_radiations/(external_radiations * 0.75)\n",
    "    rN = 0.8* global_radiations-T4*(0.34-0.14*np.sqrt(eA))*((1.35*rSrS0)-0.35)\n",
    "    den = delta + gamma *(1 + 0.34* wind_speeds)\n",
    "    tRad = 0.408 * delta * rN / den\n",
    "    tAdv = gamma * (900/(temperatures+273))*wind_speeds * (eSat - eA)/den\n",
    "    return ((tRad + tAdv) * 7 * KCs).astype('float32')"
   ]
  },
  {
   "cell_type": "code",
   "execution_count": 126,
   "metadata": {
    "ExecuteTime": {
     "end_time": "2021-04-13T16:57:52.760441Z",
     "start_time": "2021-04-13T16:57:52.753812Z"
    }
   },
   "outputs": [],
   "source": [
    "vineyard = ['VI', 'VO', 'VF', 'FV', 'CV' ]\n",
    "olive_grove = ['OV', 'VO', 'OF', 'FL', 'OC']\n",
    "fruit = ['FY', 'VF', 'OF', 'FF', 'CF']\n",
    "nuts = ['FS', 'FV', 'FL', 'FF', 'CS' ]\n",
    "citrus = ['CI', 'CV', 'OC', 'CF', 'CS' ]\n",
    "\n",
    "def get_kc(feature):\n",
    "    # TODO: Get more precise values of Kc\n",
    "    print(feature['properties'].keys())\n",
    "    # sigpac_use = feature['properties']['uso_sigpac']\n",
    "    sigpac_use = 'FF'\n",
    "    if sigpac_use in vineyard:\n",
    "        # Grapes for wine - 0.3, 0.7, 0.45\n",
    "        return 0.7  \n",
    "    if sigpac_use in olive_grove:\n",
    "        # Olive grove - ini: 0.65, med: 0.7, end: 0.7\n",
    "        return 0.7 \n",
    "    if sigpac_use in fruit:\n",
    "        # Apples, Cherries, Pears - 0.45, 0.95, 0.7\n",
    "        return 0.95\n",
    "    if sigpac_use in nuts:\n",
    "        # Almonds - 0.4, 0.9, 0.65\n",
    "        return 0.9\n",
    "    if sigpac_use in citrus:\n",
    "        # Citrus, without ground coverage - 0.7, 0.65, 0.7\n",
    "        return 0.65\n",
    "    \n",
    "    return None"
   ]
  },
  {
   "cell_type": "code",
   "execution_count": 127,
   "metadata": {
    "ExecuteTime": {
     "end_time": "2021-04-13T16:57:54.250115Z",
     "start_time": "2021-04-13T16:57:54.243932Z"
    }
   },
   "outputs": [],
   "source": [
    "def get_geometry_window(src, geom_bounds):\n",
    "    left, bottom, right, top = geom_bounds\n",
    "    src_left, src_bottom, src_right, src_top = src.bounds\n",
    "    window = src.window(max(left,src_left), max(bottom,src_bottom), min(right,src_right), min(top,src_top))\n",
    "    window_floored = window.round_offsets(op='floor', pixel_precision=3)\n",
    "    w = math.ceil(window.width + window.col_off - window_floored.col_off)\n",
    "    h = math.ceil(window.height + window.row_off - window_floored.row_off)\n",
    "    return Window(window_floored.col_off, window_floored.row_off, w, h)     "
   ]
  },
  {
   "cell_type": "code",
   "execution_count": 128,
   "metadata": {
    "ExecuteTime": {
     "end_time": "2021-04-13T16:57:57.781920Z",
     "start_time": "2021-04-13T16:57:57.770029Z"
    }
   },
   "outputs": [],
   "source": [
    "def compute_evapotranspiration_by_shape(tem, hum, win, rad, extrad, dst):\n",
    "\n",
    "    import fiona\n",
    "    from shapely.geometry import shape, box\n",
    "    from rasterio import features\n",
    "\n",
    "    non_arable_land = ['AG', 'CA', 'ED', 'FO', 'IM', 'PA', 'PR', 'ZU', 'ZV']\n",
    "\n",
    "    #with fiona.open('zip://home/docker/shape.zip') as shape_src:\n",
    "    with fiona.open('zip:///tmp/shape.zip') as shape_src:\n",
    "        for feature in shape_src.filter(bbox=tem.bounds):\n",
    "            KC = get_kc(feature)\n",
    "            if KC is not None:\n",
    "                geom = shape(feature['geometry'])\n",
    "                window = get_geometry_window(tem, geom.bounds)\n",
    "                win_transform = rasterio.windows.transform(window, tem.transform)\n",
    "                # Convert shape to raster matrix\n",
    "                image = features.rasterize([geom],\n",
    "                                           out_shape=(window.height, window.width),\n",
    "                                           transform = win_transform,\n",
    "                                           fill = 0,\n",
    "                                           default_value = 1).astype('bool')\n",
    "                # Get values to compute evapotranspiration\n",
    "                temperatures = tem.read(1, window=window)\n",
    "                humidities = hum.read(1, window=window)\n",
    "                wind_speeds = win.read(1, window=window)\n",
    "                # Convert from W to MJ (0.0036)\n",
    "                global_radiations = rad.read(1, window=window) * 0.0036\n",
    "                external_radiations = extrad.read(1, window=window) * 0.0036\n",
    "                KCs = np.full(temperatures.shape, KC)\n",
    "                # TODO: compute external radiation\n",
    "                #external_radiations = np.full(temperatures.shape, 14)\n",
    "                # TODO: compute global radiation\n",
    "                # global_radiations = np.full(temperatures.shape, 10)\n",
    "                etc = compute_crop_evapotranspiration(\n",
    "                        temperatures,\n",
    "                        humidities,\n",
    "                        wind_speeds,\n",
    "                        external_radiations,\n",
    "                        global_radiations,\n",
    "                        KCs\n",
    "                )\n",
    "                etc[temperatures == tem.nodata] = dst.nodata\n",
    "                etc[np.logical_not(image)] = dst.nodata\n",
    "                dst.write(etc + dst.read(1, window=window), 1, window=window)"
   ]
  },
  {
   "cell_type": "code",
   "execution_count": 129,
   "metadata": {
    "ExecuteTime": {
     "end_time": "2021-04-13T16:57:59.216824Z",
     "start_time": "2021-04-13T16:57:59.207435Z"
    }
   },
   "outputs": [],
   "source": [
    "def compute_global_evapotranspiration(tem, hum, win, rad, extrad, dst):    \n",
    "    for ji, window in tem.block_windows(1):\n",
    "        bounds = rasterio.windows.bounds(window, tem.transform)\n",
    "        temperatures = tem.read(1, window=window)\n",
    "        humidities = hum.read(1, window=window)\n",
    "        wind_speeds = win.read(1, window=window)\n",
    "         # Convert from W to MJ (0.0036)\n",
    "        global_radiations = rad.read(1, window=window) * 0.0036\n",
    "        external_radiations = extrad.read(1, window=window) * 0.0036\n",
    "        # TODO: compute external radiation\n",
    "        #external_radiations = np.full(temperatures.shape, 14)\n",
    "        # TODO: compute global radiation\n",
    "        # global_radiations = np.full(temperatures.shape, 10)\n",
    "        # TODO: compute KCs\n",
    "        KCs = np.full(temperatures.shape, 1)\n",
    "        etc = compute_crop_evapotranspiration(\n",
    "                temperatures,\n",
    "                humidities,\n",
    "                wind_speeds,\n",
    "                external_radiations,\n",
    "                global_radiations,\n",
    "                KCs\n",
    "        )\n",
    "        dst.write(np.where(temperatures == tem.nodata, dst.nodata, etc), 1, window=window)"
   ]
  },
  {
   "cell_type": "code",
   "execution_count": 130,
   "metadata": {
    "ExecuteTime": {
     "end_time": "2021-04-13T16:58:01.128416Z",
     "start_time": "2021-04-13T16:58:01.101842Z"
    }
   },
   "outputs": [],
   "source": [
    "def combine_calculations(tile_key, storage):\n",
    "    from functools import partial\n",
    "      \n",
    "    # Download shapefile\n",
    "    shapefile = storage.get_object(bucket=DATA_BUCKET, key='shapefile_murcia.zip', stream=True)\n",
    "\n",
    "    with open('/tmp/shape.zip', 'wb') as shapf:\n",
    "        for chunk in iter(partial(shapefile.read, 200 * 1024 * 1024), ''):\n",
    "            if not chunk:\n",
    "                break\n",
    "            shapf.write(chunk)\n",
    "    try:\n",
    "        temp = storage.get_object(bucket=DATA_BUCKET, key=os.path.join(DTM_PREFIX, 'temp', tile_key))\n",
    "        humi = storage.get_object(bucket=DATA_BUCKET, key=os.path.join(DTM_PREFIX, 'humi', tile_key))\n",
    "        rad = storage.get_object(bucket=DATA_BUCKET, key=os.path.join(DTM_PREFIX, 'rad', tile_key))\n",
    "        extrad = storage.get_object(bucket=DATA_BUCKET, key=os.path.join(DTM_PREFIX, 'extr', tile_key))\n",
    "        wind = storage.get_object(bucket=DATA_BUCKET, key=os.path.join(DTM_PREFIX, 'wind', tile_key))\n",
    "    except StorageNoSuchKeyError:\n",
    "        print(\"Storage error\")\n",
    "        return None\n",
    "    \n",
    "    output_file = os.path.join(tempfile.gettempdir(), 'eva' + '_' + tile_key)\n",
    "    with rasterio.open(BytesIO(temp)) as temp_raster:\n",
    "        with rasterio.open(BytesIO(humi)) as humi_raster:\n",
    "            with rasterio.open(BytesIO(rad)) as rad_raster:\n",
    "                with rasterio.open(BytesIO(extrad)) as extrad_raster:\n",
    "                    with rasterio.open(BytesIO(wind)) as wind_raster:\n",
    "                        profile = temp_raster.profile\n",
    "                        profile.update(nodata=0)\n",
    "                        with rasterio.open(output_file, 'w+', **profile) as dst:\n",
    "#                             compute_global_evapotranspiration(temp_raster, humi_raster, wind_raster,\n",
    "#                                                               rad_raster, extrad_raster, dst)\n",
    "                            compute_evapotranspiration_by_shape(temp_raster, humi_raster, wind_raster,\n",
    "                                                                rad_raster, extrad_raster, dst)\n",
    "    \n",
    "    output_key = os.path.join(DTM_PREFIX, 'eva', tile_key)\n",
    "    with open(output_file, 'rb') as output_f:\n",
    "        storage.put_object(bucket=DATA_BUCKET, key=output_key, body=output_f)\n",
    "    return output_key"
   ]
  },
  {
   "cell_type": "code",
   "execution_count": 131,
   "metadata": {
    "ExecuteTime": {
     "end_time": "2021-04-13T16:58:55.822484Z",
     "start_time": "2021-04-13T16:58:54.943303Z"
    },
    "tags": []
   },
   "outputs": [
    {
     "name": "stderr",
     "output_type": "stream",
     "text": [
      "2025-03-27 14:47:09,826 [INFO] invokers.py:119 -- ExecutorID 35bfa5-3 | JobID M011 - Selected Runtime: cloudbutton-wc:01 - 2048MB\n",
      "2025-03-27 14:47:09,831 [INFO] invokers.py:186 -- ExecutorID 35bfa5-3 | JobID M011 - Starting function invocation: combine_calculations() - Total: 1 activations\n",
      "2025-03-27 14:47:10,142 [ERROR] metrics.py:47 -- Failed to send metric: {\"message\":\"Not Found\"}\n",
      "2025-03-27 14:47:10,462 [ERROR] metrics.py:47 -- Failed to send metric: {\"message\":\"Not Found\"}\n",
      "2025-03-27 14:47:10,464 [INFO] invokers.py:225 -- ExecutorID 35bfa5-3 | JobID M011 - View execution logs at /tmp/lithops-usi/logs/35bfa5-3-M011.log\n",
      "2025-03-27 14:47:10,465 [INFO] executors.py:494 -- ExecutorID 35bfa5-3 - Getting results from 1 function activations\n",
      "2025-03-27 14:47:10,466 [INFO] wait.py:101 -- ExecutorID 35bfa5-3 - Waiting for 1 function activations to complete\n"
     ]
    },
    {
     "data": {
      "application/json": {
       "ascii": false,
       "bar_format": "  {l_bar}{bar}| {n_fmt}/{total_fmt}  ",
       "colour": null,
       "elapsed": 0.003847837448120117,
       "initial": 0,
       "n": 0,
       "ncols": null,
       "nrows": null,
       "postfix": null,
       "prefix": "",
       "rate": null,
       "total": 1,
       "unit": "it",
       "unit_divisor": 1000,
       "unit_scale": false
      },
      "application/vnd.jupyter.widget-view+json": {
       "model_id": "272d4148c34e4a67ae68e8111f0b1662",
       "version_major": 2,
       "version_minor": 0
      },
      "text/plain": [
       "    0%|          | 0/1  "
      ]
     },
     "metadata": {},
     "output_type": "display_data"
    },
    {
     "name": "stderr",
     "output_type": "stream",
     "text": [
      "2025-03-27 14:47:19,484 [INFO] executors.py:618 -- ExecutorID 35bfa5-3 - Cleaning temporary data\n"
     ]
    }
   ],
   "source": [
    "fs_eva = fexec.map(combine_calculations, tile_keys_merged, runtime_memory=2048)\n",
    "res_eva = fexec.get_result(fs=fs_eva)"
   ]
  },
  {
   "cell_type": "code",
   "execution_count": 132,
   "metadata": {},
   "outputs": [
    {
     "data": {
      "text/plain": [
       "['DTMs/eva/PNOA_MDT05_ETRS89_HU30_0997B_LID.tiff']"
      ]
     },
     "execution_count": 132,
     "metadata": {},
     "output_type": "execute_result"
    }
   ],
   "source": [
    "res_eva"
   ]
  },
  {
   "cell_type": "markdown",
   "metadata": {
    "tags": []
   },
   "source": [
    "---"
   ]
  },
  {
   "cell_type": "code",
   "execution_count": 133,
   "metadata": {},
   "outputs": [],
   "source": [
    "fexec.clean(clean_cloudobjects=True)"
   ]
  },
  {
   "cell_type": "code",
   "execution_count": 134,
   "metadata": {},
   "outputs": [
    {
     "name": "stderr",
     "output_type": "stream",
     "text": [
      "2025-03-27 14:47:19,541 [WARNING] executors.py:710 -- Could not log job: aws_lambda backend isn't supported by this function.\n"
     ]
    }
   ],
   "source": [
    "fexec.job_summary()"
   ]
  },
  {
   "cell_type": "markdown",
   "metadata": {},
   "source": [
    "---"
   ]
  },
  {
   "cell_type": "markdown",
   "metadata": {},
   "source": [
    "## Visualization of results"
   ]
  },
  {
   "cell_type": "code",
   "execution_count": 135,
   "metadata": {},
   "outputs": [],
   "source": [
    "%matplotlib inline\n"
   ]
  },
  {
   "cell_type": "code",
   "execution_count": 136,
   "metadata": {
    "ExecuteTime": {
     "end_time": "2021-04-13T21:32:01.429761Z",
     "start_time": "2021-04-13T21:32:00.245568Z"
    }
   },
   "outputs": [
    {
     "data": {
      "image/png": "[encoded data removed]",
      "text/plain": [
       "<Figure size 1332x756 with 2 Axes>"
      ]
     },
     "metadata": {
      "needs_background": "light"
     },
     "output_type": "display_data"
    }
   ],
   "source": [
    "from matplotlib import pyplot as plt\n",
    "\n",
    "tile = res_eva[0]\n",
    "tile_key = os.path.basename(tile)\n",
    "tile_id, _ = os.path.splitext(tile_key)\n",
    "fig, ax = plt.subplots()\n",
    "\n",
    "with rasterio.open(BytesIO(storage.get_object(bucket=DATA_BUCKET, key=tile))) as src:\n",
    "    arr = src.read(1, out_shape=(src.height, src.width))\n",
    "    ax.set_title(tile_id)\n",
    "    img = ax.imshow(arr, cmap='Greens')\n",
    "    fig.colorbar(img, shrink=0.5)\n",
    "\n",
    "fig.set_size_inches(18.5, 10.5)\n",
    "plt.show()\n",
    "\n",
    "# obj.seek(0)"
   ]
  },
  {
   "cell_type": "markdown",
   "metadata": {},
   "source": [
    "---"
   ]
  }
 ],
 "metadata": {
  "kernelspec": {
   "display_name": "Python 3",
   "language": "python",
   "name": "python3"
  },
  "language_info": {
   "codemirror_mode": {
    "name": "ipython",
    "version": 3
   },
   "file_extension": ".py",
   "mimetype": "text/x-python",
   "name": "python",
   "nbconvert_exporter": "python",
   "pygments_lexer": "ipython3",
   "version": "3.10.12"
  }
 },
 "nbformat": 4,
 "nbformat_minor": 4
}
